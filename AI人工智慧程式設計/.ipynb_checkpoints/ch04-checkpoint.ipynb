{
 "cells": [
  {
   "cell_type": "code",
   "execution_count": 1,
   "metadata": {},
   "outputs": [
    {
     "data": {
      "image/png": "[encoded data removed]",
      "text/plain": [
       "<Figure size 432x288 with 10 Axes>"
      ]
     },
     "metadata": {
      "needs_background": "light"
     },
     "output_type": "display_data"
    },
    {
     "name": "stdout",
     "output_type": "stream",
     "text": [
      "[5 0 4 1 9 2 1 3 1 4]\n",
      "[[0. 0. 0. 0. 0. 0. 0. 1. 0. 0.]\n",
      " [0. 0. 1. 0. 0. 0. 0. 0. 0. 0.]\n",
      " [0. 1. 0. 0. 0. 0. 0. 0. 0. 0.]\n",
      " [1. 0. 0. 0. 0. 0. 0. 0. 0. 0.]\n",
      " [0. 0. 0. 0. 1. 0. 0. 0. 0. 0.]\n",
      " [0. 1. 0. 0. 0. 0. 0. 0. 0. 0.]\n",
      " [0. 0. 0. 0. 1. 0. 0. 0. 0. 0.]\n",
      " [0. 0. 0. 0. 0. 0. 0. 0. 0. 1.]\n",
      " [0. 0. 0. 0. 0. 1. 0. 0. 0. 0.]\n",
      " [0. 0. 0. 0. 0. 0. 0. 0. 0. 1.]]\n",
      "[7 2 1 0 4 1 4 9 5 9]\n"
     ]
    }
   ],
   "source": [
    "\n",
    "from tensorflow.keras.datasets import mnist\n",
    "import matplotlib.pyplot as plt\n",
    "from tensorflow.keras.utils import to_categorical\n",
    "\n",
    "(train_images, train_labels), (test_images, test_labels) = mnist.load_data()\n",
    "for i in range(10):\n",
    "    plt.subplot(1, 10, i+1)\n",
    "    plt.imshow(train_images[i], 'gray')\n",
    "plt.show()\n",
    "print(train_labels[:10])\n",
    "\n",
    "train_data = train_images.reshape(len(train_images), 28, 28, 1)\n",
    "test_data = test_images.reshape(len(test_images), 28, 28, 1)\n",
    "# normalize to 0~1, for convolution computation\n",
    "train_data = train_data.astype('float32')/255.0\n",
    "test_data = test_data.astype('float32')/255.0\n",
    "\n",
    "train_labels2 = to_categorical(train_labels)\n",
    "test_labels2 = to_categorical(test_labels)\n",
    "print(test_labels2[:10])\n",
    "print(test_labels[:10])\n"
   ]
  },
  {
   "cell_type": "code",
   "execution_count": 5,
   "metadata": {},
   "outputs": [
    {
     "name": "stdout",
     "output_type": "stream",
     "text": [
      "Model: \"sequential_1\"\n",
      "_________________________________________________________________\n",
      "Layer (type)                 Output Shape              Param #   \n",
      "=================================================================\n",
      "conv2d_4 (Conv2D)            (None, 28, 28, 32)        320       \n",
      "_________________________________________________________________\n",
      "conv2d_5 (Conv2D)            (None, 28, 28, 32)        9248      \n",
      "_________________________________________________________________\n",
      "max_pooling2d_2 (MaxPooling2 (None, 14, 14, 32)        0         \n",
      "_________________________________________________________________\n",
      "dropout_3 (Dropout)          (None, 14, 14, 32)        0         \n",
      "_________________________________________________________________\n",
      "conv2d_6 (Conv2D)            (None, 14, 14, 64)        18496     \n",
      "_________________________________________________________________\n",
      "conv2d_7 (Conv2D)            (None, 14, 14, 64)        36928     \n",
      "_________________________________________________________________\n",
      "max_pooling2d_3 (MaxPooling2 (None, 7, 7, 64)          0         \n",
      "_________________________________________________________________\n",
      "dropout_4 (Dropout)          (None, 7, 7, 64)          0         \n",
      "_________________________________________________________________\n",
      "flatten_1 (Flatten)          (None, 3136)              0         \n",
      "_________________________________________________________________\n",
      "dense_2 (Dense)              (None, 512)               1606144   \n",
      "_________________________________________________________________\n",
      "dropout_5 (Dropout)          (None, 512)               0         \n",
      "_________________________________________________________________\n",
      "dense_3 (Dense)              (None, 10)                5130      \n",
      "=================================================================\n",
      "Total params: 1,676,266\n",
      "Trainable params: 1,676,266\n",
      "Non-trainable params: 0\n",
      "_________________________________________________________________\n",
      "None\n"
     ]
    }
   ],
   "source": [
    "\n",
    "from tensorflow.keras.models import Sequential\n",
    "from tensorflow.keras.layers import Dense, Dropout, Conv2D, MaxPool2D, Flatten\n",
    "from tensorflow.keras.optimizers import SGD\n",
    "\n",
    "model = Sequential()\n",
    "\n",
    "model.add(Conv2D(32, (3, 3), activation='relu', padding='same', input_shape=(28, 28, 1)))\n",
    "model.add(Conv2D(32, (3, 3), activation='relu', padding='same'))\n",
    "model.add(MaxPool2D(pool_size=(2, 2)))\n",
    "model.add(Dropout(0.25))\n",
    "\n",
    "model.add(Conv2D(64, (3, 3), activation='relu', padding='same'))\n",
    "model.add(Conv2D(64, (3, 3), activation='relu', padding='same'))\n",
    "model.add(MaxPool2D(pool_size=(2, 2)))\n",
    "model.add(Dropout(0.25))\n",
    "\n",
    "model.add(Flatten())\n",
    "\n",
    "model.add(Dense(512, activation=('relu')))\n",
    "model.add(Dropout(0.5))\n",
    "model.add(Dense(10, activation=('softmax')))\n",
    "print(model.summary())\n",
    "model.compile(loss='categorical_crossentropy', optimizer=SGD(lr=0.01), metrics=['acc'])\n",
    "\n"
   ]
  },
  {
   "cell_type": "code",
   "execution_count": 6,
   "metadata": {},
   "outputs": [
    {
     "name": "stdout",
     "output_type": "stream",
     "text": [
      "Epoch 1/50\n",
      "96/96 [==============================] - 2s 24ms/step - loss: 2.2837 - acc: 0.1508 - val_loss: 2.2461 - val_acc: 0.3512\n",
      "Epoch 2/50\n",
      "96/96 [==============================] - 2s 23ms/step - loss: 2.1152 - acc: 0.3075 - val_loss: 1.5878 - val_acc: 0.6959\n",
      "Epoch 3/50\n",
      "96/96 [==============================] - 2s 23ms/step - loss: 1.2436 - acc: 0.5908 - val_loss: 0.5558 - val_acc: 0.8551\n",
      "Epoch 4/50\n",
      "96/96 [==============================] - 2s 24ms/step - loss: 0.7661 - acc: 0.7464 - val_loss: 0.3721 - val_acc: 0.8985\n",
      "Epoch 5/50\n",
      "96/96 [==============================] - 2s 23ms/step - loss: 0.5892 - acc: 0.8089 - val_loss: 0.2964 - val_acc: 0.9164\n",
      "Epoch 6/50\n",
      "96/96 [==============================] - 2s 23ms/step - loss: 0.4867 - acc: 0.8447 - val_loss: 0.2481 - val_acc: 0.9273\n",
      "Epoch 7/50\n",
      "96/96 [==============================] - 2s 23ms/step - loss: 0.4195 - acc: 0.8671 - val_loss: 0.2183 - val_acc: 0.9353\n",
      "Epoch 8/50\n",
      "96/96 [==============================] - 2s 24ms/step - loss: 0.3756 - acc: 0.8816 - val_loss: 0.1977 - val_acc: 0.9424\n",
      "Epoch 9/50\n",
      "96/96 [==============================] - 2s 24ms/step - loss: 0.3390 - acc: 0.8925 - val_loss: 0.1772 - val_acc: 0.9480\n",
      "Epoch 10/50\n",
      "96/96 [==============================] - 2s 24ms/step - loss: 0.3128 - acc: 0.9011 - val_loss: 0.1643 - val_acc: 0.9532\n",
      "Epoch 11/50\n",
      "96/96 [==============================] - 2s 23ms/step - loss: 0.2924 - acc: 0.9088 - val_loss: 0.1524 - val_acc: 0.9553\n",
      "Epoch 12/50\n",
      "96/96 [==============================] - 2s 23ms/step - loss: 0.2737 - acc: 0.9146 - val_loss: 0.1458 - val_acc: 0.9573\n",
      "Epoch 13/50\n",
      "96/96 [==============================] - 2s 23ms/step - loss: 0.2527 - acc: 0.9222 - val_loss: 0.1356 - val_acc: 0.9591\n",
      "Epoch 14/50\n",
      "96/96 [==============================] - 2s 23ms/step - loss: 0.2428 - acc: 0.9243 - val_loss: 0.1285 - val_acc: 0.9624\n",
      "Epoch 15/50\n",
      "96/96 [==============================] - 2s 23ms/step - loss: 0.2311 - acc: 0.9278 - val_loss: 0.1216 - val_acc: 0.9643\n",
      "Epoch 16/50\n",
      "96/96 [==============================] - 2s 23ms/step - loss: 0.2219 - acc: 0.9305 - val_loss: 0.1172 - val_acc: 0.9653\n",
      "Epoch 17/50\n",
      "96/96 [==============================] - 2s 23ms/step - loss: 0.2088 - acc: 0.9352 - val_loss: 0.1118 - val_acc: 0.9665\n",
      "Epoch 18/50\n",
      "96/96 [==============================] - 2s 24ms/step - loss: 0.1993 - acc: 0.9378 - val_loss: 0.1079 - val_acc: 0.9677\n",
      "Epoch 19/50\n",
      "96/96 [==============================] - 2s 23ms/step - loss: 0.1948 - acc: 0.9393 - val_loss: 0.1044 - val_acc: 0.9682\n",
      "Epoch 20/50\n",
      "96/96 [==============================] - 2s 23ms/step - loss: 0.1842 - acc: 0.9424 - val_loss: 0.1003 - val_acc: 0.9694\n",
      "Epoch 21/50\n",
      "96/96 [==============================] - 2s 23ms/step - loss: 0.1811 - acc: 0.9445 - val_loss: 0.0976 - val_acc: 0.9704\n",
      "Epoch 22/50\n",
      "96/96 [==============================] - 2s 23ms/step - loss: 0.1725 - acc: 0.9456 - val_loss: 0.0941 - val_acc: 0.9721\n",
      "Epoch 23/50\n",
      "96/96 [==============================] - 2s 23ms/step - loss: 0.1711 - acc: 0.9468 - val_loss: 0.0917 - val_acc: 0.9728\n",
      "Epoch 24/50\n",
      "96/96 [==============================] - 2s 23ms/step - loss: 0.1611 - acc: 0.9491 - val_loss: 0.0893 - val_acc: 0.9728\n",
      "Epoch 25/50\n",
      "96/96 [==============================] - 2s 23ms/step - loss: 0.1593 - acc: 0.9501 - val_loss: 0.0873 - val_acc: 0.9744\n",
      "Epoch 26/50\n",
      "96/96 [==============================] - 2s 23ms/step - loss: 0.1553 - acc: 0.9515 - val_loss: 0.0851 - val_acc: 0.9750\n",
      "Epoch 27/50\n",
      "96/96 [==============================] - 2s 23ms/step - loss: 0.1492 - acc: 0.9530 - val_loss: 0.0835 - val_acc: 0.9750\n",
      "Epoch 28/50\n",
      "96/96 [==============================] - 2s 23ms/step - loss: 0.1473 - acc: 0.9544 - val_loss: 0.0820 - val_acc: 0.9755\n",
      "Epoch 29/50\n",
      "96/96 [==============================] - 2s 24ms/step - loss: 0.1476 - acc: 0.9537 - val_loss: 0.0797 - val_acc: 0.9756\n",
      "Epoch 30/50\n",
      "96/96 [==============================] - 2s 23ms/step - loss: 0.1422 - acc: 0.9560 - val_loss: 0.0777 - val_acc: 0.9762\n",
      "Epoch 31/50\n",
      "96/96 [==============================] - 2s 23ms/step - loss: 0.1405 - acc: 0.9562 - val_loss: 0.0761 - val_acc: 0.9772\n",
      "Epoch 32/50\n",
      "96/96 [==============================] - 2s 23ms/step - loss: 0.1347 - acc: 0.9577 - val_loss: 0.0754 - val_acc: 0.9771\n",
      "Epoch 33/50\n",
      "96/96 [==============================] - 2s 23ms/step - loss: 0.1323 - acc: 0.9585 - val_loss: 0.0744 - val_acc: 0.9776\n",
      "Epoch 34/50\n",
      "96/96 [==============================] - 2s 23ms/step - loss: 0.1298 - acc: 0.9592 - val_loss: 0.0730 - val_acc: 0.9780\n",
      "Epoch 35/50\n",
      "96/96 [==============================] - 2s 22ms/step - loss: 0.1274 - acc: 0.9600 - val_loss: 0.0709 - val_acc: 0.9778\n",
      "Epoch 36/50\n",
      "96/96 [==============================] - 2s 24ms/step - loss: 0.1262 - acc: 0.9601 - val_loss: 0.0703 - val_acc: 0.9785\n",
      "Epoch 37/50\n",
      "96/96 [==============================] - 2s 23ms/step - loss: 0.1242 - acc: 0.9605 - val_loss: 0.0694 - val_acc: 0.9790\n",
      "Epoch 38/50\n",
      "96/96 [==============================] - 2s 23ms/step - loss: 0.1206 - acc: 0.9612 - val_loss: 0.0691 - val_acc: 0.9793\n",
      "Epoch 39/50\n",
      "96/96 [==============================] - 2s 23ms/step - loss: 0.1188 - acc: 0.9625 - val_loss: 0.0687 - val_acc: 0.9789\n",
      "Epoch 40/50\n",
      "96/96 [==============================] - 2s 23ms/step - loss: 0.1161 - acc: 0.9642 - val_loss: 0.0665 - val_acc: 0.9798\n",
      "Epoch 41/50\n",
      "96/96 [==============================] - 2s 23ms/step - loss: 0.1158 - acc: 0.9634 - val_loss: 0.0660 - val_acc: 0.9797\n",
      "Epoch 42/50\n",
      "96/96 [==============================] - 2s 23ms/step - loss: 0.1139 - acc: 0.9639 - val_loss: 0.0651 - val_acc: 0.9808\n",
      "Epoch 43/50\n",
      "96/96 [==============================] - 2s 23ms/step - loss: 0.1133 - acc: 0.9649 - val_loss: 0.0645 - val_acc: 0.9805\n",
      "Epoch 44/50\n",
      "96/96 [==============================] - 2s 24ms/step - loss: 0.1117 - acc: 0.9646 - val_loss: 0.0635 - val_acc: 0.9801\n",
      "Epoch 45/50\n",
      "96/96 [==============================] - 2s 24ms/step - loss: 0.1097 - acc: 0.9654 - val_loss: 0.0634 - val_acc: 0.9803\n",
      "Epoch 46/50\n",
      "96/96 [==============================] - 2s 23ms/step - loss: 0.1099 - acc: 0.9651 - val_loss: 0.0628 - val_acc: 0.9811\n",
      "Epoch 47/50\n",
      "96/96 [==============================] - 2s 24ms/step - loss: 0.1062 - acc: 0.9664 - val_loss: 0.0609 - val_acc: 0.9814\n",
      "Epoch 48/50\n",
      "96/96 [==============================] - 2s 24ms/step - loss: 0.1051 - acc: 0.9668 - val_loss: 0.0616 - val_acc: 0.9811\n",
      "Epoch 49/50\n",
      "96/96 [==============================] - 2s 24ms/step - loss: 0.1026 - acc: 0.9674 - val_loss: 0.0608 - val_acc: 0.9816\n",
      "Epoch 50/50\n",
      "96/96 [==============================] - 2s 23ms/step - loss: 0.1018 - acc: 0.9672 - val_loss: 0.0601 - val_acc: 0.9815\n"
     ]
    },
    {
     "data": {
      "image/png": "[encoded data removed]",
      "text/plain": [
       "<Figure size 432x288 with 1 Axes>"
      ]
     },
     "metadata": {
      "needs_background": "light"
     },
     "output_type": "display_data"
    }
   ],
   "source": [
    "\n",
    "import matplotlib.pyplot as plt\n",
    "\n",
    "train_history = model.fit(train_data, train_labels2, validation_split=0.2, epochs=50, batch_size=500)\n",
    "\n",
    "plt.plot(train_history.history['acc'], label='acc')\n",
    "plt.plot(train_history.history['val_acc'], label='val_acc')\n",
    "plt.xlabel('Epoch')\n",
    "plt.ylabel('Accuracy %')\n",
    "plt.legend(loc='best')\n",
    "\n",
    "plt.show()\n"
   ]
  },
  {
   "cell_type": "code",
   "execution_count": null,
   "metadata": {},
   "outputs": [],
   "source": [
    "\n",
    "test_loss, test_acc = model.evaluate(test_data, test_labels2)\n",
    "print(test_acc)\n",
    "\n"
   ]
  }
 ],
 "metadata": {
  "kernelspec": {
   "display_name": "Python 3",
   "language": "python",
   "name": "python3"
  },
  "language_info": {
   "codemirror_mode": {
    "name": "ipython",
    "version": 3
   },
   "file_extension": ".py",
   "mimetype": "text/x-python",
   "name": "python",
   "nbconvert_exporter": "python",
   "pygments_lexer": "ipython3",
   "version": "3.8.8"
  }
 },
 "nbformat": 4,
 "nbformat_minor": 4
}
