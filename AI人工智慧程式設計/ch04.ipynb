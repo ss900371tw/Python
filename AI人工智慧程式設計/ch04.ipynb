{
 "cells": [
  {
   "cell_type": "code",
   "execution_count": 6,
   "metadata": {},
   "outputs": [
    {
     "data": {
      "image/png": "[encoded data removed]",
      "text/plain": [
       "<Figure size 432x288 with 10 Axes>"
      ]
     },
     "metadata": {
      "needs_background": "light"
     },
     "output_type": "display_data"
    },
    {
     "name": "stdout",
     "output_type": "stream",
     "text": [
      "[5 0 4 1 9 2 1 3 1 4]\n",
      "[[0. 0. 0. 0. 0. 0. 0. 1. 0. 0.]\n",
      " [0. 0. 1. 0. 0. 0. 0. 0. 0. 0.]\n",
      " [0. 1. 0. 0. 0. 0. 0. 0. 0. 0.]\n",
      " [1. 0. 0. 0. 0. 0. 0. 0. 0. 0.]\n",
      " [0. 0. 0. 0. 1. 0. 0. 0. 0. 0.]\n",
      " [0. 1. 0. 0. 0. 0. 0. 0. 0. 0.]\n",
      " [0. 0. 0. 0. 1. 0. 0. 0. 0. 0.]\n",
      " [0. 0. 0. 0. 0. 0. 0. 0. 0. 1.]\n",
      " [0. 0. 0. 0. 0. 1. 0. 0. 0. 0.]\n",
      " [0. 0. 0. 0. 0. 0. 0. 0. 0. 1.]]\n",
      "[7 2 1 0 4 1 4 9 5 9]\n"
     ]
    }
   ],
   "source": [
    "\n",
    "from tensorflow.keras.datasets import mnist\n",
    "import matplotlib.pyplot as plt\n",
    "from tensorflow.keras.utils import to_categorical\n",
    "\n",
    "(train_images, train_labels), (test_images, test_labels) = mnist.load_data()\n",
    "for i in range(10):\n",
    "    plt.subplot(1, 10, i+1)\n",
    "    plt.imshow(train_images[i], 'gray')\n",
    "plt.show()\n",
    "print(train_labels[:10])\n",
    "\n",
    "train_data = train_images.reshape(len(train_images), 28, 28, 1)\n",
    "test_data = test_images.reshape(len(test_images), 28, 28, 1)\n",
    "# normalize to 0~1, for convolution computation\n",
    "train_data = train_data.astype('float32')/255.0\n",
    "test_data = test_data.astype('float32')/255.0\n",
    "\n",
    "train_labels2 = to_categorical(train_labels)\n",
    "test_labels2 = to_categorical(test_labels)\n",
    "print(test_labels2[:10])\n",
    "print(test_labels[:10])\n"
   ]
  },
  {
   "cell_type": "code",
   "execution_count": 7,
   "metadata": {},
   "outputs": [
    {
     "name": "stdout",
     "output_type": "stream",
     "text": [
      "Model: \"sequential_2\"\n",
      "_________________________________________________________________\n",
      "Layer (type)                 Output Shape              Param #   \n",
      "=================================================================\n",
      "conv2d_8 (Conv2D)            (None, 28, 28, 32)        320       \n",
      "_________________________________________________________________\n",
      "conv2d_9 (Conv2D)            (None, 28, 28, 32)        9248      \n",
      "_________________________________________________________________\n",
      "max_pooling2d_4 (MaxPooling2 (None, 14, 14, 32)        0         \n",
      "_________________________________________________________________\n",
      "dropout_6 (Dropout)          (None, 14, 14, 32)        0         \n",
      "_________________________________________________________________\n",
      "conv2d_10 (Conv2D)           (None, 14, 14, 64)        18496     \n",
      "_________________________________________________________________\n",
      "conv2d_11 (Conv2D)           (None, 14, 14, 64)        36928     \n",
      "_________________________________________________________________\n",
      "max_pooling2d_5 (MaxPooling2 (None, 7, 7, 64)          0         \n",
      "_________________________________________________________________\n",
      "dropout_7 (Dropout)          (None, 7, 7, 64)          0         \n",
      "_________________________________________________________________\n",
      "flatten_2 (Flatten)          (None, 3136)              0         \n",
      "_________________________________________________________________\n",
      "dense_4 (Dense)              (None, 512)               1606144   \n",
      "_________________________________________________________________\n",
      "dropout_8 (Dropout)          (None, 512)               0         \n",
      "_________________________________________________________________\n",
      "dense_5 (Dense)              (None, 10)                5130      \n",
      "=================================================================\n",
      "Total params: 1,676,266\n",
      "Trainable params: 1,676,266\n",
      "Non-trainable params: 0\n",
      "_________________________________________________________________\n",
      "None\n"
     ]
    }
   ],
   "source": [
    "\n",
    "from tensorflow.keras.models import Sequential\n",
    "from tensorflow.keras.layers import Dense, Dropout, Conv2D, MaxPool2D, Flatten\n",
    "from tensorflow.keras.optimizers import SGD\n",
    "\n",
    "model = Sequential()\n",
    "\n",
    "model.add(Conv2D(32, (3, 3), activation='relu', padding='same', input_shape=(28, 28, 1)))\n",
    "model.add(Conv2D(32, (3, 3), activation='relu', padding='same'))\n",
    "model.add(MaxPool2D(pool_size=(2, 2)))\n",
    "model.add(Dropout(0.25))\n",
    "\n",
    "model.add(Conv2D(64, (3, 3), activation='relu', padding='same'))\n",
    "model.add(Conv2D(64, (3, 3), activation='relu', padding='same'))\n",
    "model.add(MaxPool2D(pool_size=(2, 2)))\n",
    "model.add(Dropout(0.25))\n",
    "\n",
    "model.add(Flatten())\n",
    "\n",
    "model.add(Dense(512, activation=('relu')))\n",
    "model.add(Dropout(0.5))\n",
    "model.add(Dense(10, activation=('softmax')))\n",
    "print(model.summary())\n",
    "model.compile(loss='categorical_crossentropy', optimizer=SGD(lr=0.01), metrics=['acc'])\n",
    "\n"
   ]
  },
  {
   "cell_type": "code",
   "execution_count": 8,
   "metadata": {},
   "outputs": [
    {
     "name": "stdout",
     "output_type": "stream",
     "text": [
      "Epoch 1/50\n",
      "96/96 [==============================] - 109s 1s/step - loss: 2.2909 - acc: 0.1526 - val_loss: 2.2695 - val_acc: 0.4288\n",
      "Epoch 2/50\n",
      "96/96 [==============================] - 137s 1s/step - loss: 2.2268 - acc: 0.2625 - val_loss: 2.0861 - val_acc: 0.6505\n",
      "Epoch 3/50\n",
      "96/96 [==============================] - 141s 1s/step - loss: 1.6167 - acc: 0.4847 - val_loss: 0.7372 - val_acc: 0.8047\n",
      "Epoch 4/50\n",
      "96/96 [==============================] - 136s 1s/step - loss: 0.8964 - acc: 0.7015 - val_loss: 0.4322 - val_acc: 0.8851\n",
      "Epoch 5/50\n",
      "96/96 [==============================] - 140s 1s/step - loss: 0.6515 - acc: 0.7898 - val_loss: 0.3229 - val_acc: 0.9153\n",
      "Epoch 6/50\n",
      "96/96 [==============================] - 140s 1s/step - loss: 0.5220 - acc: 0.8335 - val_loss: 0.2613 - val_acc: 0.9290\n",
      "Epoch 7/50\n",
      "96/96 [==============================] - 133s 1s/step - loss: 0.4452 - acc: 0.8599 - val_loss: 0.2255 - val_acc: 0.9372\n",
      "Epoch 8/50\n",
      "96/96 [==============================] - 132s 1s/step - loss: 0.3878 - acc: 0.8789 - val_loss: 0.1995 - val_acc: 0.9449\n",
      "Epoch 9/50\n",
      "96/96 [==============================] - 133s 1s/step - loss: 0.3483 - acc: 0.8917 - val_loss: 0.1789 - val_acc: 0.9482\n",
      "Epoch 10/50\n",
      "96/96 [==============================] - 130s 1s/step - loss: 0.3156 - acc: 0.9014 - val_loss: 0.1642 - val_acc: 0.9522\n",
      "Epoch 11/50\n",
      "96/96 [==============================] - 128s 1s/step - loss: 0.2899 - acc: 0.9098 - val_loss: 0.1522 - val_acc: 0.9573\n",
      "Epoch 12/50\n",
      "96/96 [==============================] - 134s 1s/step - loss: 0.2715 - acc: 0.9159 - val_loss: 0.1453 - val_acc: 0.9572\n",
      "Epoch 13/50\n",
      "96/96 [==============================] - 132s 1s/step - loss: 0.2543 - acc: 0.9224 - val_loss: 0.1340 - val_acc: 0.9620\n",
      "Epoch 14/50\n",
      "96/96 [==============================] - 132s 1s/step - loss: 0.2395 - acc: 0.9272 - val_loss: 0.1283 - val_acc: 0.9647\n",
      "Epoch 15/50\n",
      "96/96 [==============================] - 134s 1s/step - loss: 0.2251 - acc: 0.9304 - val_loss: 0.1205 - val_acc: 0.9647\n",
      "Epoch 16/50\n",
      "96/96 [==============================] - 132s 1s/step - loss: 0.2141 - acc: 0.9328 - val_loss: 0.1159 - val_acc: 0.9665\n",
      "Epoch 17/50\n",
      "96/96 [==============================] - 133s 1s/step - loss: 0.2054 - acc: 0.9368 - val_loss: 0.1116 - val_acc: 0.9672\n",
      "Epoch 18/50\n",
      "96/96 [==============================] - 128s 1s/step - loss: 0.1950 - acc: 0.9402 - val_loss: 0.1073 - val_acc: 0.9683\n",
      "Epoch 19/50\n",
      "96/96 [==============================] - 104s 1s/step - loss: 0.1896 - acc: 0.9408 - val_loss: 0.1034 - val_acc: 0.9695\n",
      "Epoch 20/50\n",
      "96/96 [==============================] - 106s 1s/step - loss: 0.1839 - acc: 0.9418 - val_loss: 0.1000 - val_acc: 0.9705\n",
      "Epoch 21/50\n",
      "96/96 [==============================] - 105s 1s/step - loss: 0.1790 - acc: 0.9441 - val_loss: 0.0966 - val_acc: 0.9717\n",
      "Epoch 22/50\n",
      "96/96 [==============================] - 106s 1s/step - loss: 0.1718 - acc: 0.9462 - val_loss: 0.0940 - val_acc: 0.9724\n",
      "Epoch 23/50\n",
      "96/96 [==============================] - 127s 1s/step - loss: 0.1648 - acc: 0.9489 - val_loss: 0.0908 - val_acc: 0.9728\n",
      "Epoch 24/50\n",
      "96/96 [==============================] - 102s 1s/step - loss: 0.1642 - acc: 0.9485 - val_loss: 0.0892 - val_acc: 0.9741\n",
      "Epoch 25/50\n",
      "96/96 [==============================] - 105s 1s/step - loss: 0.1600 - acc: 0.9500 - val_loss: 0.0873 - val_acc: 0.9737\n",
      "Epoch 26/50\n",
      "96/96 [==============================] - 104s 1s/step - loss: 0.1541 - acc: 0.9517 - val_loss: 0.0846 - val_acc: 0.9748\n",
      "Epoch 27/50\n",
      "96/96 [==============================] - 126s 1s/step - loss: 0.1483 - acc: 0.9539 - val_loss: 0.0822 - val_acc: 0.9760\n",
      "Epoch 28/50\n",
      "96/96 [==============================] - 111s 1s/step - loss: 0.1476 - acc: 0.9526 - val_loss: 0.0807 - val_acc: 0.9762\n",
      "Epoch 29/50\n",
      "96/96 [==============================] - 114s 1s/step - loss: 0.1448 - acc: 0.9554 - val_loss: 0.0790 - val_acc: 0.9766\n",
      "Epoch 30/50\n",
      "96/96 [==============================] - 107s 1s/step - loss: 0.1408 - acc: 0.9556 - val_loss: 0.0775 - val_acc: 0.9772\n",
      "Epoch 31/50\n",
      "96/96 [==============================] - 106s 1s/step - loss: 0.1373 - acc: 0.9576 - val_loss: 0.0759 - val_acc: 0.9777\n",
      "Epoch 32/50\n",
      "96/96 [==============================] - 107s 1s/step - loss: 0.1332 - acc: 0.9576 - val_loss: 0.0746 - val_acc: 0.9775\n",
      "Epoch 33/50\n",
      "96/96 [==============================] - 102s 1s/step - loss: 0.1349 - acc: 0.9586 - val_loss: 0.0737 - val_acc: 0.9779\n",
      "Epoch 34/50\n",
      "96/96 [==============================] - 101s 1s/step - loss: 0.1303 - acc: 0.9580 - val_loss: 0.0725 - val_acc: 0.9784\n",
      "Epoch 35/50\n",
      "96/96 [==============================] - 102s 1s/step - loss: 0.1263 - acc: 0.9609 - val_loss: 0.0718 - val_acc: 0.9785\n",
      "Epoch 36/50\n",
      "96/96 [==============================] - 101s 1s/step - loss: 0.1245 - acc: 0.9610 - val_loss: 0.0712 - val_acc: 0.9783\n",
      "Epoch 37/50\n",
      "96/96 [==============================] - 100s 1s/step - loss: 0.1241 - acc: 0.9615 - val_loss: 0.0702 - val_acc: 0.9782\n",
      "Epoch 38/50\n",
      "96/96 [==============================] - 101s 1s/step - loss: 0.1206 - acc: 0.9616 - val_loss: 0.0681 - val_acc: 0.9797\n",
      "Epoch 39/50\n",
      "96/96 [==============================] - 101s 1s/step - loss: 0.1178 - acc: 0.9635 - val_loss: 0.0673 - val_acc: 0.9793\n",
      "Epoch 40/50\n",
      "96/96 [==============================] - 101s 1s/step - loss: 0.1183 - acc: 0.9621 - val_loss: 0.0658 - val_acc: 0.9806\n",
      "Epoch 41/50\n",
      "96/96 [==============================] - 99s 1s/step - loss: 0.1165 - acc: 0.9632 - val_loss: 0.0661 - val_acc: 0.9799\n",
      "Epoch 42/50\n",
      "96/96 [==============================] - 99s 1s/step - loss: 0.1123 - acc: 0.9648 - val_loss: 0.0646 - val_acc: 0.9806\n",
      "Epoch 43/50\n",
      "96/96 [==============================] - 100s 1s/step - loss: 0.1124 - acc: 0.9643 - val_loss: 0.0637 - val_acc: 0.9807\n",
      "Epoch 44/50\n",
      "96/96 [==============================] - 100s 1s/step - loss: 0.1118 - acc: 0.9645 - val_loss: 0.0631 - val_acc: 0.9811\n",
      "Epoch 45/50\n",
      "96/96 [==============================] - 100s 1s/step - loss: 0.1096 - acc: 0.9648 - val_loss: 0.0623 - val_acc: 0.9813\n",
      "Epoch 46/50\n",
      "96/96 [==============================] - 99s 1s/step - loss: 0.1083 - acc: 0.9657 - val_loss: 0.0620 - val_acc: 0.9813\n",
      "Epoch 47/50\n",
      "96/96 [==============================] - 100s 1s/step - loss: 0.1048 - acc: 0.9672 - val_loss: 0.0618 - val_acc: 0.9816\n",
      "Epoch 48/50\n",
      "96/96 [==============================] - 100s 1s/step - loss: 0.1048 - acc: 0.9670 - val_loss: 0.0610 - val_acc: 0.9815\n",
      "Epoch 49/50\n",
      "96/96 [==============================] - 99s 1s/step - loss: 0.1044 - acc: 0.9670 - val_loss: 0.0603 - val_acc: 0.9819\n",
      "Epoch 50/50\n",
      "96/96 [==============================] - 99s 1s/step - loss: 0.1008 - acc: 0.9678 - val_loss: 0.0592 - val_acc: 0.9823\n"
     ]
    },
    {
     "data": {
      "image/png": "[encoded data removed]",
      "text/plain": [
       "<Figure size 432x288 with 1 Axes>"
      ]
     },
     "metadata": {
      "needs_background": "light"
     },
     "output_type": "display_data"
    }
   ],
   "source": [
    "\n",
    "import matplotlib.pyplot as plt\n",
    "\n",
    "train_history = model.fit(train_data, train_labels2, validation_split=0.2, epochs=50, batch_size=500)\n",
    "\n",
    "plt.plot(train_history.history['acc'], label='acc')\n",
    "plt.plot(train_history.history['val_acc'], label='val_acc')\n",
    "plt.xlabel('Epoch')\n",
    "plt.ylabel('Accuracy %')\n",
    "plt.legend(loc='best')\n",
    "\n",
    "plt.show()\n"
   ]
  },
  {
   "cell_type": "code",
   "execution_count": null,
   "metadata": {},
   "outputs": [],
   "source": [
    "\n",
    "test_loss, test_acc = model.evaluate(test_data, test_labels2)\n",
    "print(test_acc)\n",
    "\n"
   ]
  },
  {
   "cell_type": "code",
   "execution_count": null,
   "metadata": {},
   "outputs": [],
   "source": []
  }
 ],
 "metadata": {
  "kernelspec": {
   "display_name": "Python 3",
   "language": "python",
   "name": "python3"
  },
  "language_info": {
   "codemirror_mode": {
    "name": "ipython",
    "version": 3
   },
   "file_extension": ".py",
   "mimetype": "text/x-python",
   "name": "python",
   "nbconvert_exporter": "python",
   "pygments_lexer": "ipython3",
   "version": "3.8.8"
  }
 },
 "nbformat": 4,
 "nbformat_minor": 4
}
