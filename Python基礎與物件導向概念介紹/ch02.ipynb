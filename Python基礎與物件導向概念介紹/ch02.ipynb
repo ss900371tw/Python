{
 "cells": [
  {
   "cell_type": "code",
   "execution_count": 8,
   "metadata": {},
   "outputs": [
    {
     "name": "stdout",
     "output_type": "stream",
     "text": [
      "test1\n",
      "test2\n",
      "test3\n",
      "1.414\n"
     ]
    }
   ],
   "source": [
    "\n",
    "x = 1\n",
    "_y = 2\n",
    "z375a2 = 3\n",
    "_234g67 = 1.414\n",
    "\n",
    "a_1 = 50\n",
    "\n",
    "b567 = 'a test is a test'\n",
    "\n",
    "str1 = '''test1\n",
    "test2\n",
    "test3'''\n",
    "print(str1)\n",
    "print(_234g67)\n",
    "\n"
   ]
  },
  {
   "cell_type": "code",
   "execution_count": 19,
   "metadata": {},
   "outputs": [
    {
     "name": "stdout",
     "output_type": "stream",
     "text": [
      "(125+0j)\n",
      "(10+5j)\n",
      "3\n"
     ]
    }
   ],
   "source": [
    "\n",
    "c = 10+5j\n",
    "d = 10-5j\n",
    "e = c*d\n",
    "print(e)\n",
    "print(c)\n",
    "c = 3\n",
    "print(c)\n"
   ]
  },
  {
   "cell_type": "code",
   "execution_count": 12,
   "metadata": {},
   "outputs": [
    {
     "name": "stdout",
     "output_type": "stream",
     "text": [
      "5\n",
      "1\n",
      "6\n",
      "1.5\n",
      "1\n"
     ]
    }
   ],
   "source": [
    "print(3+2)\n",
    "print(3-2)\n",
    "print(3*2)\n",
    "print(3/2)\n",
    "print(3%2)\n"
   ]
  },
  {
   "cell_type": "code",
   "execution_count": 14,
   "metadata": {},
   "outputs": [
    {
     "name": "stdout",
     "output_type": "stream",
     "text": [
      "0.26973684210526316\n",
      "123\n",
      "0\n"
     ]
    }
   ],
   "source": [
    "\n",
    "print(123/456)\n",
    "print(123%456)\n",
    "print(123//456)"
   ]
  },
  {
   "cell_type": "code",
   "execution_count": 15,
   "metadata": {},
   "outputs": [
    {
     "name": "stdout",
     "output_type": "stream",
     "text": [
      "3.3333333333333335\n"
     ]
    }
   ],
   "source": [
    "\n",
    "print(10/3)\n"
   ]
  },
  {
   "cell_type": "code",
   "execution_count": 18,
   "metadata": {},
   "outputs": [
    {
     "name": "stdout",
     "output_type": "stream",
     "text": [
      "3.22490309931942\n"
     ]
    }
   ],
   "source": [
    "print(10.4**0.5)\n"
   ]
  },
  {
   "cell_type": "code",
   "execution_count": 20,
   "metadata": {},
   "outputs": [
    {
     "data": {
      "text/plain": [
       "13"
      ]
     },
     "execution_count": 20,
     "metadata": {},
     "output_type": "execute_result"
    }
   ],
   "source": [
    "4+9\n"
   ]
  },
  {
   "cell_type": "code",
   "execution_count": 21,
   "metadata": {},
   "outputs": [
    {
     "data": {
      "text/plain": [
       "'HelloWorld'"
      ]
     },
     "execution_count": 21,
     "metadata": {},
     "output_type": "execute_result"
    }
   ],
   "source": [
    "'Hello' + 'World'\n"
   ]
  },
  {
   "cell_type": "code",
   "execution_count": 26,
   "metadata": {},
   "outputs": [
    {
     "name": "stdout",
     "output_type": "stream",
     "text": [
      "<class 'int'>\n",
      "<class 'float'>\n",
      "<class 'float'>\n",
      "<class 'str'>\n",
      "<class 'str'>\n"
     ]
    }
   ],
   "source": [
    "a = 4+9\n",
    "print(type(a))\n",
    "b = a*3.6\n",
    "print(type(b))\n",
    "c = (a+b)/7.5\n",
    "print(type(c))\n",
    "d = 'Hello World'\n",
    "print(type(d))\n",
    "c = d+'!'\n",
    "print(type(c))\n"
   ]
  },
  {
   "cell_type": "code",
   "execution_count": 29,
   "metadata": {},
   "outputs": [
    {
     "name": "stdout",
     "output_type": "stream",
     "text": [
      "<class 'float'>\n",
      "False\n",
      "True\n"
     ]
    }
   ],
   "source": [
    "\n",
    "c = (a+b)/7.5\n",
    "print(type(c))\n",
    "print(isinstance(c, complex))\n",
    "print(isinstance(c, float))\n"
   ]
  },
  {
   "cell_type": "code",
   "execution_count": 31,
   "metadata": {},
   "outputs": [
    {
     "name": "stdout",
     "output_type": "stream",
     "text": [
      "使用双引號的字串\n",
      "使用單引號的字串\n",
      "test1\n",
      "test2\n",
      "test3\n"
     ]
    }
   ],
   "source": [
    "\n",
    "str1 = \"使用双引號的字串\"\n",
    "print(str1)\n",
    "str2 = '使用單引號的字串'\n",
    "print(str2)\n",
    "str3 = '''test1\n",
    "test2\n",
    "test3'''\n",
    "print(str3)\n"
   ]
  },
  {
   "cell_type": "code",
   "execution_count": 41,
   "metadata": {},
   "outputs": [
    {
     "name": "stdout",
     "output_type": "stream",
     "text": [
      "哈囉\n",
      "嗎\n",
      "哈囉大家好 哈囉大家好 \n",
      "哈囉大家好  你好嗎？ \n",
      " 你好 ？ \n",
      " 你好吧？ \n"
     ]
    },
    {
     "ename": "TypeError",
     "evalue": "'str' object does not support item assignment",
     "output_type": "error",
     "traceback": [
      "\u001b[0;31m---------------------------------------------------------------------------\u001b[0m",
      "\u001b[0;31mTypeError\u001b[0m                                 Traceback (most recent call last)",
      "\u001b[0;32m<ipython-input-41-78bbec1f9783>\u001b[0m in \u001b[0;36m<module>\u001b[0;34m\u001b[0m\n\u001b[1;32m     13\u001b[0m \u001b[0;31m#print(str2.replace('嗎', '吧'))\u001b[0m\u001b[0;34m\u001b[0m\u001b[0;34m\u001b[0m\u001b[0;34m\u001b[0m\u001b[0m\n\u001b[1;32m     14\u001b[0m \u001b[0;34m\u001b[0m\u001b[0m\n\u001b[0;32m---> 15\u001b[0;31m \u001b[0mstr2\u001b[0m\u001b[0;34m[\u001b[0m\u001b[0;36m3\u001b[0m\u001b[0;34m]\u001b[0m \u001b[0;34m=\u001b[0m \u001b[0;34m'吧'\u001b[0m\u001b[0;34m\u001b[0m\u001b[0;34m\u001b[0m\u001b[0m\n\u001b[0m",
      "\u001b[0;31mTypeError\u001b[0m: 'str' object does not support item assignment"
     ]
    }
   ],
   "source": [
    "\n",
    "str1 = '哈囉大家好 '\n",
    "str2 = ' 你好嗎？ '\n",
    "print(str1[0:2])\n",
    "print(str2[3])\n",
    "print(str1*2)\n",
    "print(str1+str2)\n",
    "\n",
    "str3 = str1+str2\n",
    "\n",
    "print(str2[0:3], str2[4:])\n",
    "str4 = str2[0:3]+'吧'+str2[4:]\n",
    "print(str4)\n",
    "#print(str2.replace('嗎', '吧'))\n",
    "\n",
    "str2[3] = '吧'\n"
   ]
  },
  {
   "cell_type": "code",
   "execution_count": 42,
   "metadata": {},
   "outputs": [
    {
     "name": "stdout",
     "output_type": "stream",
     "text": [
      "哈囉\n",
      "嗎\n",
      "哈囉大家好哈囉大家好\n",
      "哈囉大家好 你好嗎？\n"
     ]
    }
   ],
   "source": [
    "#魏恩慈同學程式碼，可是我可以run耶！！\n",
    "str1 ='哈囉大家好'\n",
    "str2 =' 你好嗎？'\n",
    "print(str1[0:2])\n",
    "print(str2[3])\n",
    "print(str1*2)\n",
    "print(str1+str2)\n"
   ]
  },
  {
   "cell_type": "code",
   "execution_count": 51,
   "metadata": {},
   "outputs": [
    {
     "name": "stdout",
     "output_type": "stream",
     "text": [
      "<class 'list'>\n",
      "['a', 1, (10+5j), False]\n",
      "4\n",
      "[False]\n",
      "False\n",
      "['a', 1]\n",
      "['a', 1, (10+5j), False, 'a', 1, (10+5j), False]\n",
      "['a', 1, (10+5j), False, 'a', 1, (10+5j), False, 'a', 1, (10+5j), False]\n",
      "['a', 1, (10+5j), False]\n",
      "['a', 1, 'Java', False]\n"
     ]
    }
   ],
   "source": [
    "\n",
    "list1 = ['a', 1, 10+5j, False]\n",
    "print(type(list1))\n",
    "print(list1)\n",
    "print(len(list1))\n",
    "print(list1[3:])\n",
    "print(list1[3])\n",
    "print(list1[0:2])\n",
    "print(list1+list1)\n",
    "print(list1*3)\n",
    "print(list1)\n",
    "\n",
    "list1[2] = 'Java'\n",
    "print(list1)\n"
   ]
  },
  {
   "cell_type": "code",
   "execution_count": 54,
   "metadata": {},
   "outputs": [
    {
     "name": "stdout",
     "output_type": "stream",
     "text": [
      "[1, 'hihi', [1, 2, 3], 2]\n",
      "4\n"
     ]
    }
   ],
   "source": [
    "\n",
    "list2 = [1, 'hi', 'Python', 2]\n",
    "list2[1] = 'hihi'\n",
    "list2[2] = [1, 2, 3]\n",
    "print(list2)\n",
    "print(len(list2))\n"
   ]
  },
  {
   "cell_type": "code",
   "execution_count": 62,
   "metadata": {},
   "outputs": [
    {
     "name": "stdout",
     "output_type": "stream",
     "text": [
      "<class 'tuple'>\n",
      "4\n",
      "Python\n",
      "('Python', 2)\n",
      "(2,)\n",
      "<class 'int'>\n"
     ]
    }
   ],
   "source": [
    "\n",
    "tup1 = (1, 'hi', 'Python', 2)\n",
    "print(type(tup1))\n",
    "print(len(tup1))\n",
    "print(tup1[2])\n",
    "print(tup1[2:])\n",
    "print(tup1[3:])\n",
    "\n",
    "#tup1[2] = 'hihi'\n",
    "\n",
    "print(type((2)))"
   ]
  },
  {
   "cell_type": "code",
   "execution_count": 71,
   "metadata": {},
   "outputs": [
    {
     "name": "stdout",
     "output_type": "stream",
     "text": [
      "<class 'range'>\n",
      "[1, 2, 3, 4, 5, 6, 7, 8, 9, 10, 11, 12, 13, 14, 15, 16, 17, 18, 19]\n",
      "19\n",
      "1\n",
      "2\n",
      "3\n",
      "4\n",
      "5\n",
      "6\n",
      "7\n",
      "8\n",
      "9\n",
      "10\n",
      "11\n",
      "12\n",
      "13\n",
      "14\n",
      "15\n",
      "16\n",
      "17\n",
      "18\n",
      "19\n"
     ]
    }
   ],
   "source": [
    "\n",
    "rng1 = range(1, 20)\n",
    "print(type(rng1))\n",
    "print(list(rng1))\n",
    "print(len(rng1))\n",
    "\n",
    "for i in rng1:\n",
    "    print(i)\n"
   ]
  },
  {
   "cell_type": "code",
   "execution_count": 66,
   "metadata": {},
   "outputs": [
    {
     "name": "stdout",
     "output_type": "stream",
     "text": [
      "<class 'range'>\n",
      "[0, 1, 2, 3, 4, 5, 6, 7, 8, 9, 10, 11, 12, 13, 14, 15, 16, 17, 18, 19]\n",
      "20\n"
     ]
    }
   ],
   "source": [
    "\n",
    "rng2 = range(20)\n",
    "print(type(rng2))\n",
    "print(list(rng2))\n",
    "print(len(rng2))\n"
   ]
  },
  {
   "cell_type": "code",
   "execution_count": 72,
   "metadata": {},
   "outputs": [
    {
     "name": "stdout",
     "output_type": "stream",
     "text": [
      "<class 'range'>\n",
      "[5, 8, 11, 14, 17, 20, 23, 26, 29, 32, 35, 38, 41, 44, 47]\n",
      "15\n"
     ]
    }
   ],
   "source": [
    "\n",
    "rng3 = range(5, 50, 3)\n",
    "print(type(rng3))\n",
    "print(list(rng3))\n",
    "print(len(rng3))\n",
    "\n"
   ]
  },
  {
   "cell_type": "code",
   "execution_count": 125,
   "metadata": {},
   "outputs": [
    {
     "name": "stdout",
     "output_type": "stream",
     "text": [
      "[]\n",
      "[]\n",
      "set()\n",
      "{2, 3, 'James', 'Python'}\n",
      "{2, 3, 'Python', 10, 'James'}\n",
      "{2, 3, 'Python', 10, 'James'}\n",
      "{3, 'Python', 10, 'James'}\n",
      "True\n",
      "{'Mary', 'sheep', (1, 'hi', 'Python', 2)}\n",
      "<class 'set'>\n",
      "<class 'set'>\n",
      "<class 'set'>\n"
     ]
    }
   ],
   "source": [
    "\n",
    "list1 = list()\n",
    "list2 = []\n",
    "set1 = set()\n",
    "print(list1)\n",
    "print(list2)\n",
    "print(set1)\n",
    "\n",
    "set2 = {'James', 2, 3, 'Python'}\n",
    "print(set2)\n",
    "set2.add(10)\n",
    "print(set2)\n",
    "set2.add(2)\n",
    "print(set2)\n",
    "set2.remove(2)\n",
    "print(set2)\n",
    "\n",
    "b1 = 3 in set2\n",
    "print(b1)\n",
    "\n",
    "set3 = {'Mary', 'sheep', tup1}\n",
    "print(set3)\n",
    "\n",
    "print(type(set1))\n",
    "print(type(set2))\n",
    "print(type(set3))\n",
    "\n"
   ]
  },
  {
   "cell_type": "code",
   "execution_count": 95,
   "metadata": {},
   "outputs": [
    {
     "name": "stdout",
     "output_type": "stream",
     "text": [
      "<class 'dict'>\n",
      "{1: 'Jimmy', 2: 'Alex', '3': 'john', 4: 'mike', 'Mary': 'sheep'}\n",
      "Jimmy\n",
      "john\n",
      "sheep\n",
      "dict_keys([1, 2, '3', 4, 'Mary'])\n",
      "dict_values(['Jimmy', 'Alex', 'john', 'mike', 'sheep'])\n",
      "dict_items([(1, 'Jimmy'), (2, 'Alex'), ('3', 'john'), (4, 'mike'), ('Mary', 'sheep')])\n",
      "{1: 'Tom', 2: 'Alex', '3': 'john', 4: 'mike', 'Mary': 'sheep'}\n",
      "{1: 'Tom', 2: 'Alex', '3': 'john', 4: 'mike', 'Mary': 'sheep', 9999: 'hello'}\n"
     ]
    }
   ],
   "source": [
    "\n",
    "dic1 = {1:'Jimmy', 2:'Alex', '3':'john', 4:'mike', 'Mary':'sheep'}\n",
    "print(type(dic1))\n",
    "print(dic1)\n",
    "\n",
    "print(dic1[1])\n",
    "print(dic1['3'])\n",
    "print(dic1['Mary'])\n",
    "#print(dic1['mary'])\n",
    "\n",
    "print(dic1.keys())\n",
    "print(dic1.values())\n",
    "print(dic1.items())\n",
    "\n",
    "dic1[1] = 'Tom'\n",
    "print(dic1)\n",
    "dic1[9999] = 'hello'\n",
    "print(dic1)\n",
    "\n"
   ]
  },
  {
   "cell_type": "code",
   "execution_count": 104,
   "metadata": {},
   "outputs": [
    {
     "name": "stdout",
     "output_type": "stream",
     "text": [
      "True\n",
      "False\n",
      "True\n",
      "False\n",
      "False\n",
      "True\n",
      "False\n",
      "True\n",
      "a is bigger\n"
     ]
    }
   ],
   "source": [
    "\n",
    "print(10 > 9)\n",
    "print(10 < 9)\n",
    "print(10 >= 9)\n",
    "print(10 <= 9)\n",
    "print(10 == 9)\n",
    "print(10 == 10)\n",
    "print('abc' == 'def')\n",
    "print('abc' == 'abc')\n",
    "#f(x) == g(y)\n",
    "\n",
    "a = 200\n",
    "b = 200\n",
    "\n",
    "if b>a:\n",
    "    print('b is bigger')\n",
    "else:\n",
    "    print('a is bigger')\n"
   ]
  },
  {
   "cell_type": "code",
   "execution_count": 113,
   "metadata": {},
   "outputs": [
    {
     "name": "stdout",
     "output_type": "stream",
     "text": [
      "True\n"
     ]
    }
   ],
   "source": [
    "\n",
    "print('abc'>'abd')\n",
    "#print('abc'<='cba')\n"
   ]
  },
  {
   "cell_type": "code",
   "execution_count": 120,
   "metadata": {},
   "outputs": [
    {
     "name": "stdout",
     "output_type": "stream",
     "text": [
      "3\n",
      "3.0 3.1415926\n",
      "s1 0 2.7182818\n",
      "<class 'str'> <class 'str'> <class 'str'>\n"
     ]
    }
   ],
   "source": [
    "\n",
    "x = int(3.99415926)\n",
    "#y = int(\"3.1415926\")\n",
    "print(x)\n",
    "\n",
    "x = float(3)\n",
    "y = float(\"3.1415926\")\n",
    "print(x, y)\n",
    "\n",
    "x = str('s1')\n",
    "y = str(0)\n",
    "z = str(2.7182818)\n",
    "print(x, y, z)\n",
    "print(type(x), type(y), type(z))\n"
   ]
  },
  {
   "cell_type": "code",
   "execution_count": 121,
   "metadata": {},
   "outputs": [
    {
     "name": "stdout",
     "output_type": "stream",
     "text": [
      "True\n"
     ]
    }
   ],
   "source": [
    "\n",
    "a = 200\n",
    "b = 3\n",
    "print(a != b)\n"
   ]
  },
  {
   "cell_type": "code",
   "execution_count": 123,
   "metadata": {},
   "outputs": [
    {
     "name": "stdout",
     "output_type": "stream",
     "text": [
      "42\n",
      "39\n",
      "4\n",
      "2\n",
      "128\n",
      "140.8\n",
      "70.4\n"
     ]
    }
   ],
   "source": [
    "\n",
    "x = 35\n",
    "x += 7     # x = x+7\n",
    "print(x)\n",
    "x -= 3     # x = x-3\n",
    "print(x)\n",
    "\n",
    "x %= 5     # x = x%5\n",
    "print(x)\n",
    "\n",
    "x //= 2    # x = x//2\n",
    "print(x)\n",
    "\n",
    "x **= 7    # x = x**7\n",
    "print(x)\n",
    "\n",
    "x *= 1.1   # x = x*1.1\n",
    "print(x)\n",
    "x /= 2     # x = x/2\n",
    "print(x)\n",
    "\n",
    "\n"
   ]
  },
  {
   "cell_type": "code",
   "execution_count": 128,
   "metadata": {},
   "outputs": [
    {
     "name": "stdout",
     "output_type": "stream",
     "text": [
      "1 True\n",
      "2 True\n",
      "3 True\n",
      "4 False\n",
      "5 False\n",
      "6 True\n",
      "11 True\n",
      "12 True\n",
      "13 True\n",
      "14 False\n",
      "15 False\n",
      "16 True\n"
     ]
    }
   ],
   "source": [
    "\n",
    "tup1 = (1, 2, 3)\n",
    "tup2 = (1, 2, 3)\n",
    "tup3 = tup1\n",
    "\n",
    "print(1, tup1 == tup2)\n",
    "print(2, tup2 == tup3)\n",
    "print(3, tup3 == tup1)\n",
    "print(4, tup1 is tup2)\n",
    "print(5, tup2 is tup3)\n",
    "print(6, tup3 is tup1)\n",
    "\n",
    "\n",
    "list1 = [1, 2, 3]\n",
    "list2 = [1, 2, 3]\n",
    "list3 = list1\n",
    "\n",
    "print(11, list1 == list2)\n",
    "print(12, list2 == list3)\n",
    "print(13, list3 == list1)\n",
    "print(14, list1 is list2)\n",
    "print(15, list2 is list3)\n",
    "print(16, list3 is list1)\n",
    "\n"
   ]
  },
  {
   "cell_type": "code",
   "execution_count": null,
   "metadata": {},
   "outputs": [],
   "source": []
  }
 ],
 "metadata": {
  "kernelspec": {
   "display_name": "Python 3",
   "language": "python",
   "name": "python3"
  },
  "language_info": {
   "codemirror_mode": {
    "name": "ipython",
    "version": 3
   },
   "file_extension": ".py",
   "mimetype": "text/x-python",
   "name": "python",
   "nbconvert_exporter": "python",
   "pygments_lexer": "ipython3",
   "version": "3.7.6"
  }
 },
 "nbformat": 4,
 "nbformat_minor": 4
}
