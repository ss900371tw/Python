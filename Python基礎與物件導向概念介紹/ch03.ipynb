{
 "cells": [
  {
   "cell_type": "code",
   "execution_count": 8,
   "metadata": {},
   "outputs": [
    {
     "name": "stdout",
     "output_type": "stream",
     "text": [
      "Enter the number?18\n",
      "偶數\n",
      "123\n",
      "abc\n",
      "Hello!\n",
      "567\n"
     ]
    }
   ],
   "source": [
    "\n",
    "str1 = input('Enter the number?')\n",
    "i1 = int(str1)\n",
    "if i1%2!=0:\n",
    "    print('奇數')\n",
    "\n",
    "print(567)\n"
   ]
  },
  {
   "cell_type": "code",
   "execution_count": 15,
   "metadata": {},
   "outputs": [
    {
     "name": "stdout",
     "output_type": "stream",
     "text": [
      "Enter A: 7\n",
      "Enter B: 6\n",
      "Enter C: 5\n",
      "a最大\n"
     ]
    }
   ],
   "source": [
    "\n",
    "a = int(input('Enter A: '))\n",
    "b = int(input('Enter B: '))\n",
    "c = int(input('Enter C: '))\n",
    "\n",
    "if a>b and a>c:\n",
    "    print('a最大')\n",
    "\n",
    "if b>a and b>c:\n",
    "    print('b最大')\n",
    "\n",
    "if c>a and c>b:\n",
    "    print('c最大')\n",
    "    "
   ]
  },
  {
   "cell_type": "code",
   "execution_count": 18,
   "metadata": {},
   "outputs": [
    {
     "name": "stdout",
     "output_type": "stream",
     "text": [
      "年齡？25\n",
      "成年了！\n",
      "end.\n"
     ]
    }
   ],
   "source": [
    "\n",
    "age = int(input('年齡？'))\n",
    "if age>=18:\n",
    "    print('成年了！')\n",
    "else:\n",
    "    print('再等等')\n",
    "\n",
    "print('end.')\n"
   ]
  },
  {
   "cell_type": "code",
   "execution_count": 19,
   "metadata": {},
   "outputs": [
    {
     "name": "stdout",
     "output_type": "stream",
     "text": [
      "數字？65\n",
      "Odd\n"
     ]
    }
   ],
   "source": [
    "\n",
    "num = int(input('數字？'))\n",
    "\n",
    "if num%2==0:\n",
    "    print('Even')\n",
    "else:\n",
    "    print('Odd')\n",
    "\n",
    "\n"
   ]
  },
  {
   "cell_type": "code",
   "execution_count": 22,
   "metadata": {},
   "outputs": [
    {
     "name": "stdout",
     "output_type": "stream",
     "text": [
      "數字？76\n",
      "not 10, 50, or 100\n"
     ]
    }
   ],
   "source": [
    "\n",
    "num = int(input('數字？'))\n",
    "\n",
    "if num==10:\n",
    "    print('is 10')\n",
    "elif num==50:\n",
    "    print('is 50')\n",
    "elif num==100:\n",
    "    print('is 100')\n",
    "else:\n",
    "    print('not 10, 50, or 100')\n",
    "\n"
   ]
  },
  {
   "cell_type": "code",
   "execution_count": 23,
   "metadata": {},
   "outputs": [
    {
     "name": "stdout",
     "output_type": "stream",
     "text": [
      "數字？76\n",
      "not 10, 50, or 100\n"
     ]
    }
   ],
   "source": [
    "\n",
    "num = int(input('數字？'))\n",
    "\n",
    "if num==10:\n",
    "    print('is 10')\n",
    "else:\n",
    "    if num==50:\n",
    "        print('is 50')\n",
    "    else:\n",
    "        if num==100:\n",
    "            print('is 100')\n",
    "        else:\n",
    "            print('not 10, 50, or 100')\n",
    "    "
   ]
  },
  {
   "cell_type": "code",
   "execution_count": 25,
   "metadata": {},
   "outputs": [
    {
     "name": "stdout",
     "output_type": "stream",
     "text": [
      "分數？20\n",
      "...\n"
     ]
    }
   ],
   "source": [
    "\n",
    "score = int(input('分數？'))\n",
    "\n",
    "if score>85:\n",
    "    print('A級')\n",
    "elif score>=60 and score<=85:\n",
    "    print('B+級')\n",
    "elif score>=40 and score<60:\n",
    "    print('B級')\n",
    "elif score>=30 and score<40:\n",
    "    print('C級')\n",
    "else:\n",
    "    print('...')\n",
    "\n"
   ]
  },
  {
   "cell_type": "code",
   "execution_count": 26,
   "metadata": {},
   "outputs": [
    {
     "name": "stdout",
     "output_type": "stream",
     "text": [
      "分數？35\n",
      "C級\n"
     ]
    }
   ],
   "source": [
    "\n",
    "score = int(input('分數？'))\n",
    "\n",
    "if score>85:\n",
    "    print('A級')\n",
    "elif score>=60:\n",
    "    print('B+級')\n",
    "elif score>=40:\n",
    "    print('B級')\n",
    "elif score>=30:\n",
    "    print('C級')\n",
    "else:\n",
    "    print('...')\n",
    "    "
   ]
  },
  {
   "cell_type": "code",
   "execution_count": 29,
   "metadata": {},
   "outputs": [
    {
     "name": "stdout",
     "output_type": "stream",
     "text": [
      "數字？25\n",
      "above 10,\n",
      "and also above 20.\n"
     ]
    }
   ],
   "source": [
    "\n",
    "num = int(input('數字？'))\n",
    "\n",
    "if num>10:\n",
    "    print('above 10,')\n",
    "    if num>20:\n",
    "        print('and also above 20.')\n",
    "    else:\n",
    "        print('but below 20.')\n",
    "    \n"
   ]
  },
  {
   "cell_type": "code",
   "execution_count": 31,
   "metadata": {},
   "outputs": [
    {
     "name": "stdout",
     "output_type": "stream",
     "text": [
      "數字？10\n",
      "Even\n"
     ]
    }
   ],
   "source": [
    "\n",
    "\n",
    "num = int(input('數字？'))\n",
    "\n",
    "print('Even') if num%2==0 else print('Odd')\n",
    "\n",
    "#if num%2==0:\n",
    "#    print('Even')\n",
    "#else:\n",
    "#    print('Odd')\n",
    "\n",
    "    "
   ]
  },
  {
   "cell_type": "code",
   "execution_count": 32,
   "metadata": {},
   "outputs": [
    {
     "name": "stdout",
     "output_type": "stream",
     "text": [
      "[T]\n",
      "[h]\n",
      "[i]\n",
      "[s]\n",
      "[ ]\n",
      "[i]\n",
      "[s]\n",
      "[ ]\n",
      "[a]\n",
      "[ ]\n",
      "[t]\n",
      "[e]\n",
      "[s]\n",
      "[t]\n",
      "[.]\n"
     ]
    }
   ],
   "source": [
    "\n",
    "str1 = 'This is a test.'\n",
    "\n",
    "for ch in str1:\n",
    "    print('['+ch+']')\n"
   ]
  },
  {
   "cell_type": "code",
   "execution_count": 33,
   "metadata": {},
   "outputs": [
    {
     "name": "stdout",
     "output_type": "stream",
     "text": [
      "1\n",
      "8\n",
      "27\n",
      "64\n",
      "125\n",
      "216\n",
      "343\n",
      "512\n",
      "729\n",
      "1000\n"
     ]
    }
   ],
   "source": [
    "\n",
    "list1 = [1, 2, 3, 4, 5, 6, 7, 8, 9, 10]\n",
    "\n",
    "for i in list1:\n",
    "    print(i**3)\n"
   ]
  },
  {
   "cell_type": "code",
   "execution_count": 34,
   "metadata": {},
   "outputs": [
    {
     "name": "stdout",
     "output_type": "stream",
     "text": [
      "70\n"
     ]
    }
   ],
   "source": [
    "\n",
    "list1 = [10, 15, 20, 25]\n",
    "\n",
    "sum1 = 0\n",
    "for i in list1:\n",
    "    sum1 += i       # sum1 = sum1+i\n",
    "    \n",
    "print(sum1)\n"
   ]
  },
  {
   "cell_type": "code",
   "execution_count": 37,
   "metadata": {},
   "outputs": [
    {
     "name": "stdout",
     "output_type": "stream",
     "text": [
      "29087\n"
     ]
    }
   ],
   "source": [
    "\n",
    "sum1 = 0\n",
    "for num in range(0, 1000+1, 17):\n",
    "    sum1 += num\n",
    "print(sum1)\n"
   ]
  },
  {
   "cell_type": "code",
   "execution_count": 36,
   "metadata": {},
   "outputs": [
    {
     "name": "stdout",
     "output_type": "stream",
     "text": [
      "250500\n"
     ]
    }
   ],
   "source": [
    "\n",
    "sum1 = 0\n",
    "for i in range(1000+1):\n",
    "    if i%2==0:\n",
    "        sum1 += i\n",
    "print(sum1)\n"
   ]
  },
  {
   "cell_type": "code",
   "execution_count": 39,
   "metadata": {},
   "outputs": [
    {
     "name": "stdout",
     "output_type": "stream",
     "text": [
      "250500\n"
     ]
    }
   ],
   "source": [
    "\n",
    "rng1 = range(0, 1000+1, 2)\n",
    "sum1 = 0\n",
    "for num in rng1:\n",
    "    sum1 += num\n",
    "print(sum1)\n"
   ]
  },
  {
   "cell_type": "code",
   "execution_count": 1,
   "metadata": {},
   "outputs": [
    {
     "name": "stdout",
     "output_type": "stream",
     "text": [
      "250500\n"
     ]
    }
   ],
   "source": [
    "\n",
    "rng1=range(1001)\n",
    "sum1=0\n",
    "#num%2==0\n",
    "for num in rng1:\n",
    "    if num%2==0:\n",
    "        sum1+=num\n",
    "print(sum1)\n",
    "    "
   ]
  },
  {
   "cell_type": "code",
   "execution_count": 5,
   "metadata": {},
   "outputs": [
    {
     "name": "stdout",
     "output_type": "stream",
     "text": [
      "數字？5\n",
      "Counting down...\n",
      "5\n",
      "4\n",
      "3\n",
      "2\n",
      "1\n",
      "0\n",
      "Done.\n"
     ]
    }
   ],
   "source": [
    "\n",
    "num = int(input('數字？'))\n",
    "\n",
    "print('Counting down...')\n",
    "while num>=0:\n",
    "    print(num)\n",
    "    num = num-1\n",
    "print('Done.')\n"
   ]
  },
  {
   "cell_type": "code",
   "execution_count": 6,
   "metadata": {},
   "outputs": [
    {
     "name": "stdout",
     "output_type": "stream",
     "text": [
      "數字？123\n",
      "笨(1234)！數字？4576\n",
      "笨(1234)！數字？123\n",
      "笨(1234)！數字？56\n",
      "笨(1234)！數字？789\n",
      "笨(1234)！數字？123\n",
      "笨(1234)！數字？1234\n",
      "結束\n"
     ]
    }
   ],
   "source": [
    "\n",
    "num = int(input('數字？'))\n",
    "\n",
    "while num!=1234:\n",
    "    num = int(input('笨(1234)！數字？'))\n",
    "\n",
    "print('結束')\n"
   ]
  },
  {
   "cell_type": "code",
   "execution_count": 10,
   "metadata": {},
   "outputs": [
    {
     "name": "stdout",
     "output_type": "stream",
     "text": [
      "item matched\n",
      "found at 5 location\n"
     ]
    }
   ],
   "source": [
    "\n",
    "list1 = [1, 5, 6, 2, 7, 8, 3, 9, 4]\n",
    "index = 1\n",
    "for i in list1:\n",
    "    if i==7:\n",
    "        print('item matched')\n",
    "        break\n",
    "    index += 1\n",
    "print('found at', index, 'location')\n"
   ]
  },
  {
   "cell_type": "code",
   "execution_count": 11,
   "metadata": {},
   "outputs": [
    {
     "name": "stdout",
     "output_type": "stream",
     "text": [
      "1\n",
      "2\n",
      "3\n",
      "4\n",
      "6\n",
      "7\n",
      "8\n",
      "9\n",
      "10\n"
     ]
    }
   ],
   "source": [
    "\n",
    "i = 0\n",
    "while i<10:\n",
    "    i += 1\n",
    "    if i==5:\n",
    "        continue\n",
    "    print(i)\n"
   ]
  },
  {
   "cell_type": "code",
   "execution_count": 14,
   "metadata": {},
   "outputs": [
    {
     "name": "stdout",
     "output_type": "stream",
     "text": [
      "square result for 5 is 25\n"
     ]
    }
   ],
   "source": [
    "\n",
    "def square(x):\n",
    "    print('square result for', x, 'is', x**2)\n",
    "    \n",
    "square(5)\n"
   ]
  },
  {
   "cell_type": "code",
   "execution_count": 17,
   "metadata": {},
   "outputs": [
    {
     "name": "stdout",
     "output_type": "stream",
     "text": [
      "sum 5\n",
      "product 6\n",
      "power 9\n",
      "sum 13.399999999999999\n",
      "product 43.68\n",
      "power 685277.7177002846\n"
     ]
    },
    {
     "ename": "TypeError",
     "evalue": "can only concatenate str (not \"int\") to str",
     "output_type": "error",
     "traceback": [
      "\u001b[0;31m---------------------------------------------------------------------------\u001b[0m",
      "\u001b[0;31mTypeError\u001b[0m                                 Traceback (most recent call last)",
      "\u001b[0;32m<ipython-input-17-7686094bf577>\u001b[0m in \u001b[0;36m<module>\u001b[0;34m\u001b[0m\n\u001b[1;32m      6\u001b[0m \u001b[0mmy_function\u001b[0m\u001b[0;34m(\u001b[0m\u001b[0;36m3\u001b[0m\u001b[0;34m,\u001b[0m \u001b[0;36m2\u001b[0m\u001b[0;34m)\u001b[0m\u001b[0;34m\u001b[0m\u001b[0;34m\u001b[0m\u001b[0m\n\u001b[1;32m      7\u001b[0m \u001b[0mmy_function\u001b[0m\u001b[0;34m(\u001b[0m\u001b[0;36m5.6\u001b[0m\u001b[0;34m,\u001b[0m \u001b[0;36m7.8\u001b[0m\u001b[0;34m)\u001b[0m\u001b[0;34m\u001b[0m\u001b[0;34m\u001b[0m\u001b[0m\n\u001b[0;32m----> 8\u001b[0;31m \u001b[0mmy_function\u001b[0m\u001b[0;34m(\u001b[0m\u001b[0;34m'小智'\u001b[0m\u001b[0;34m,\u001b[0m \u001b[0;36m2\u001b[0m\u001b[0;34m)\u001b[0m\u001b[0;34m\u001b[0m\u001b[0;34m\u001b[0m\u001b[0m\n\u001b[0m\u001b[1;32m      9\u001b[0m \u001b[0;34m\u001b[0m\u001b[0m\n\u001b[1;32m     10\u001b[0m \u001b[0;34m\u001b[0m\u001b[0m\n",
      "\u001b[0;32m<ipython-input-17-7686094bf577>\u001b[0m in \u001b[0;36mmy_function\u001b[0;34m(a, b)\u001b[0m\n\u001b[1;32m      1\u001b[0m \u001b[0;32mdef\u001b[0m \u001b[0mmy_function\u001b[0m\u001b[0;34m(\u001b[0m\u001b[0ma\u001b[0m\u001b[0;34m,\u001b[0m \u001b[0mb\u001b[0m\u001b[0;34m)\u001b[0m\u001b[0;34m:\u001b[0m\u001b[0;34m\u001b[0m\u001b[0;34m\u001b[0m\u001b[0m\n\u001b[0;32m----> 2\u001b[0;31m     \u001b[0mprint\u001b[0m\u001b[0;34m(\u001b[0m\u001b[0;34m'sum'\u001b[0m\u001b[0;34m,\u001b[0m \u001b[0;34m(\u001b[0m\u001b[0ma\u001b[0m\u001b[0;34m+\u001b[0m\u001b[0mb\u001b[0m\u001b[0;34m)\u001b[0m\u001b[0;34m)\u001b[0m\u001b[0;34m\u001b[0m\u001b[0;34m\u001b[0m\u001b[0m\n\u001b[0m\u001b[1;32m      3\u001b[0m     \u001b[0mprint\u001b[0m\u001b[0;34m(\u001b[0m\u001b[0;34m'product'\u001b[0m\u001b[0;34m,\u001b[0m \u001b[0;34m(\u001b[0m\u001b[0ma\u001b[0m\u001b[0;34m*\u001b[0m\u001b[0mb\u001b[0m\u001b[0;34m)\u001b[0m\u001b[0;34m)\u001b[0m\u001b[0;34m\u001b[0m\u001b[0;34m\u001b[0m\u001b[0m\n\u001b[1;32m      4\u001b[0m     \u001b[0mprint\u001b[0m\u001b[0;34m(\u001b[0m\u001b[0;34m'power'\u001b[0m\u001b[0;34m,\u001b[0m \u001b[0;34m(\u001b[0m\u001b[0ma\u001b[0m\u001b[0;34m**\u001b[0m\u001b[0mb\u001b[0m\u001b[0;34m)\u001b[0m\u001b[0;34m)\u001b[0m\u001b[0;34m\u001b[0m\u001b[0;34m\u001b[0m\u001b[0m\n\u001b[1;32m      5\u001b[0m \u001b[0;34m\u001b[0m\u001b[0m\n",
      "\u001b[0;31mTypeError\u001b[0m: can only concatenate str (not \"int\") to str"
     ]
    }
   ],
   "source": [
    "\n",
    "def my_function(a, b):\n",
    "    print('sum', (a+b))\n",
    "    print('product', (a*b))\n",
    "    print('power', (a**b))\n",
    "\n",
    "my_function(3, 2)\n",
    "my_function(5.6, 7.8)\n",
    "my_function('小智', 2)\n",
    "\n",
    "    "
   ]
  },
  {
   "cell_type": "code",
   "execution_count": 18,
   "metadata": {},
   "outputs": [
    {
     "name": "stdout",
     "output_type": "stream",
     "text": [
      "9\n"
     ]
    }
   ],
   "source": [
    "\n",
    "def myAdd(a, b):\n",
    "    return a+b+1\n",
    "\n",
    "print(myAdd(3, 5))\n",
    "\n"
   ]
  },
  {
   "cell_type": "code",
   "execution_count": 43,
   "metadata": {},
   "outputs": [
    {
     "name": "stdout",
     "output_type": "stream",
     "text": [
      "7\n",
      "12\n",
      "-2\n"
     ]
    }
   ],
   "source": [
    "\n",
    "i = 7\n",
    "\n",
    "def my_function(a, b):\n",
    "    sum0 = a+b\n",
    "    diff1 = a-b\n",
    "    print(i)\n",
    "    return sum0, diff1\n",
    "\n",
    "c, d = my_function(5, 7)\n",
    "print(c)\n",
    "print(d)\n",
    "#print(sum0)\n",
    "#print(diff1)\n"
   ]
  },
  {
   "cell_type": "code",
   "execution_count": 24,
   "metadata": {},
   "outputs": [
    {
     "name": "stdout",
     "output_type": "stream",
     "text": [
      "X?10\n",
      "Y?5\n",
      "perimeter= 30\n",
      "area= 50\n"
     ]
    }
   ],
   "source": [
    "\n",
    "def my_function(a, b):\n",
    "    p = 2*(a+b)\n",
    "    a1 = a*b\n",
    "    return p, a1\n",
    "    \n",
    "x = int(input('X?'))\n",
    "y = int(input('Y?'))\n",
    "\n",
    "peri, area = my_function(x, y)\n",
    "print('perimeter=', peri)\n",
    "print('area=', area)\n"
   ]
  },
  {
   "cell_type": "code",
   "execution_count": 25,
   "metadata": {},
   "outputs": [
    {
     "name": "stdout",
     "output_type": "stream",
     "text": [
      "outside before [10, 20, 30, 40]\n",
      "inside [10, 20, 30, 40, 20, 30]\n",
      "outside after [10, 20, 30, 40, 20, 30]\n"
     ]
    }
   ],
   "source": [
    "\n",
    "def change_list(list1):\n",
    "    list1.append(20)\n",
    "    list1.append(30)\n",
    "    print('inside', list1)\n",
    "    \n",
    "ll = [10, 20, 30, 40]\n",
    "print('outside before', ll)\n",
    "change_list(ll)\n",
    "print('outside after', ll)\n",
    "\n",
    "    "
   ]
  },
  {
   "cell_type": "code",
   "execution_count": 27,
   "metadata": {},
   "outputs": [
    {
     "name": "stdout",
     "output_type": "stream",
     "text": [
      "outside before: Hi I am there\n",
      "inside: Hi I am there Hows you \n",
      "outside after: Hi I am there\n"
     ]
    }
   ],
   "source": [
    "\n",
    "def change_string(str1):\n",
    "    str1 += ' Hows you '\n",
    "    print('inside:', str1)\n",
    "    \n",
    "s0 = 'Hi I am there'\n",
    "print('outside before:', s0)\n",
    "change_string(s0)\n",
    "print('outside after:', s0)"
   ]
  },
  {
   "cell_type": "code",
   "execution_count": 30,
   "metadata": {},
   "outputs": [
    {
     "name": "stdout",
     "output_type": "stream",
     "text": [
      "after: [30, 60, 100, 97]\n"
     ]
    }
   ],
   "source": [
    "\n",
    "def change_scores(sc):\n",
    "    len1 = len(sc)\n",
    "    for i in range(len1):\n",
    "        sc[i] = sc[i]+20 if sc[i]<=80 else 100\n",
    "#        sc[i] += 20\n",
    "#        if sc[i]>100:\n",
    "#            sc[i] = 100\n",
    "\n",
    "scores = [10, 40, 96, 77]\n",
    "change_scores(scores)\n",
    "print('after:', scores)\n"
   ]
  },
  {
   "cell_type": "code",
   "execution_count": 31,
   "metadata": {},
   "outputs": [
    {
     "name": "stdout",
     "output_type": "stream",
     "text": [
      "X?4\n",
      "Y?8\n",
      "perimeter= 24\n",
      "area= 32\n"
     ]
    }
   ],
   "source": [
    "\n",
    "def my_function(w, h):\n",
    "    p = 2*(w+h)\n",
    "    a1 = w*h\n",
    "    return p, a1\n",
    "    \n",
    "x = int(input('X?'))\n",
    "y = int(input('Y?'))\n",
    "\n",
    "peri, area = my_function(w=y, h=x)\n",
    "print('perimeter=', peri)\n",
    "print('area=', area)\n"
   ]
  },
  {
   "cell_type": "code",
   "execution_count": 33,
   "metadata": {},
   "outputs": [
    {
     "name": "stdout",
     "output_type": "stream",
     "text": [
      "<class 'tuple'>\n",
      "John\n",
      "Mary\n",
      "Tom\n",
      "<class 'tuple'>\n"
     ]
    }
   ],
   "source": [
    "\n",
    "def printme(*names):\n",
    "    print(type(names))\n",
    "    for s in names:\n",
    "        print(s)\n",
    "        \n",
    "printme('John', 'Mary', 'Tom')\n",
    "printme()\n"
   ]
  },
  {
   "cell_type": "code",
   "execution_count": 38,
   "metadata": {},
   "outputs": [
    {
     "name": "stdout",
     "output_type": "stream",
     "text": [
      "1 1\n",
      "2 2\n",
      "3 6\n",
      "4 24\n",
      "5 120\n",
      "6 720\n",
      "7 5040\n",
      "8 40320\n",
      "9 362880\n",
      "10 3628800\n",
      "11 39916800\n",
      "12 479001600\n",
      "13 6227020800\n",
      "14 87178291200\n",
      "15 1307674368000\n",
      "16 20922789888000\n",
      "17 355687428096000\n",
      "18 6402373705728000\n",
      "19 121645100408832000\n",
      "20 2432902008176640000\n"
     ]
    }
   ],
   "source": [
    "\n",
    "def factorial(n):\n",
    "    if n==1:\n",
    "        return 1\n",
    "    return n*factorial(n-1)\n",
    "    \n",
    "for i in range(1, 20+1):\n",
    "    print(i, factorial(i))\n"
   ]
  },
  {
   "cell_type": "code",
   "execution_count": 42,
   "metadata": {},
   "outputs": [
    {
     "name": "stdout",
     "output_type": "stream",
     "text": [
      "1 1\n",
      "2 1\n",
      "3 2\n",
      "4 3\n",
      "5 5\n",
      "6 8\n",
      "7 13\n",
      "8 21\n",
      "9 34\n",
      "10 55\n",
      "11 89\n",
      "12 144\n",
      "13 233\n",
      "14 377\n",
      "15 610\n",
      "16 987\n",
      "17 1597\n",
      "18 2584\n",
      "19 4181\n",
      "20 6765\n"
     ]
    }
   ],
   "source": [
    "\n",
    "def fibonacci(n):\n",
    "    if n==1 or n==2:\n",
    "        return 1\n",
    "    return fibonacci(n-1)+fibonacci(n-2)\n",
    "\n",
    "\n",
    "for i in range(1, 20+1):\n",
    "    print(i, fibonacci(i))\n",
    "\n",
    "    "
   ]
  },
  {
   "cell_type": "code",
   "execution_count": 53,
   "metadata": {},
   "outputs": [
    {
     "ename": "ZeroDivisionError",
     "evalue": "division by zero",
     "output_type": "error",
     "traceback": [
      "\u001b[0;31m---------------------------------------------------------------------------\u001b[0m",
      "\u001b[0;31mZeroDivisionError\u001b[0m                         Traceback (most recent call last)",
      "\u001b[0;32m<ipython-input-53-00acf0c80200>\u001b[0m in \u001b[0;36m<module>\u001b[0;34m\u001b[0m\n\u001b[1;32m      1\u001b[0m \u001b[0ma\u001b[0m \u001b[0;34m=\u001b[0m \u001b[0;36m75\u001b[0m\u001b[0;34m\u001b[0m\u001b[0;34m\u001b[0m\u001b[0m\n\u001b[1;32m      2\u001b[0m \u001b[0mb\u001b[0m \u001b[0;34m=\u001b[0m \u001b[0;36m0\u001b[0m\u001b[0;34m\u001b[0m\u001b[0;34m\u001b[0m\u001b[0m\n\u001b[0;32m----> 3\u001b[0;31m \u001b[0mc\u001b[0m \u001b[0;34m=\u001b[0m \u001b[0ma\u001b[0m\u001b[0;34m/\u001b[0m\u001b[0mb\u001b[0m\u001b[0;34m\u001b[0m\u001b[0;34m\u001b[0m\u001b[0m\n\u001b[0m\u001b[1;32m      4\u001b[0m \u001b[0mprint\u001b[0m\u001b[0;34m(\u001b[0m\u001b[0mc\u001b[0m\u001b[0;34m)\u001b[0m\u001b[0;34m\u001b[0m\u001b[0;34m\u001b[0m\u001b[0m\n",
      "\u001b[0;31mZeroDivisionError\u001b[0m: division by zero"
     ]
    }
   ],
   "source": [
    "\n",
    "a = 75\n",
    "b = 0\n",
    "c = a/b\n",
    "print(c)\n"
   ]
  },
  {
   "cell_type": "code",
   "execution_count": 54,
   "metadata": {},
   "outputs": [
    {
     "name": "stdout",
     "output_type": "stream",
     "text": [
      "a=?7\n",
      "b=?0\n",
      "掛了！\n",
      "abcdef\n"
     ]
    }
   ],
   "source": [
    "\n",
    "try:\n",
    "    a = int(input('a=?'))\n",
    "    b = int(input('b=?'))\n",
    "    c = a/b\n",
    "    print(c)\n",
    "except:\n",
    "    print('掛了！')\n",
    "\n",
    "print('abcdef')\n",
    "\n"
   ]
  },
  {
   "cell_type": "code",
   "execution_count": 55,
   "metadata": {},
   "outputs": [
    {
     "name": "stdout",
     "output_type": "stream",
     "text": [
      "a=?8\n",
      "b=?2\n",
      "4.0\n",
      "哈哈！沒掛\n",
      "abcdef\n"
     ]
    }
   ],
   "source": [
    "\n",
    "try:\n",
    "    a = int(input('a=?'))\n",
    "    b = int(input('b=?'))\n",
    "    c = a/b\n",
    "    print(c)\n",
    "#    print('哈哈！沒掛')\n",
    "except:\n",
    "    print('掛了！')\n",
    "else:\n",
    "    print('哈哈！沒掛')\n",
    "    \n",
    "print('abcdef')\n",
    "\n"
   ]
  },
  {
   "cell_type": "code",
   "execution_count": 59,
   "metadata": {},
   "outputs": [
    {
     "name": "stdout",
     "output_type": "stream",
     "text": [
      "a=?8\n",
      "b=?0\n",
      "不能除以零啦！ division by zero\n",
      "abcdef\n"
     ]
    }
   ],
   "source": [
    "\n",
    "try:\n",
    "    a = int(input('a=?'))\n",
    "    b = int(input('b=?'))\n",
    "    c = a/b\n",
    "    print(c)\n",
    "#    print('哈哈！沒掛')\n",
    "#except ZeroDivisionError as e1:\n",
    "except ZeroDivisionError:\n",
    "    print('不能除以零啦！')\n",
    "#except Exception as e1:\n",
    "except Exception:\n",
    "    print('掛了！')\n",
    "else:\n",
    "    print('哈哈！沒掛')\n",
    "    \n",
    "print('abcdef')\n",
    "\n",
    "\n"
   ]
  },
  {
   "cell_type": "code",
   "execution_count": 61,
   "metadata": {},
   "outputs": [
    {
     "name": "stdout",
     "output_type": "stream",
     "text": [
      "Noooooo...\n",
      "done\n"
     ]
    }
   ],
   "source": [
    "\n",
    "def div(a, b):\n",
    "    if b==0:\n",
    "        raise ZeroDivisionError('Noooooo...')\n",
    "    return a/b\n",
    "\n",
    "x = 8\n",
    "y = 0\n",
    "try:\n",
    "    z = div(x, y)\n",
    "except ZeroDivisionError as e1:\n",
    "    print(e1)\n",
    "\n",
    "print('done')\n",
    "\n",
    "    "
   ]
  },
  {
   "cell_type": "code",
   "execution_count": 62,
   "metadata": {},
   "outputs": [
    {
     "name": "stdout",
     "output_type": "stream",
     "text": [
      "2 x 1 = 2\n",
      "2 x 2 = 4\n",
      "2 x 3 = 6\n",
      "2 x 4 = 8\n",
      "2 x 5 = 10\n",
      "2 x 6 = 12\n",
      "2 x 7 = 14\n",
      "2 x 8 = 16\n",
      "2 x 9 = 18\n",
      "3 x 1 = 3\n",
      "3 x 2 = 6\n",
      "3 x 3 = 9\n",
      "3 x 4 = 12\n",
      "3 x 5 = 15\n",
      "3 x 6 = 18\n",
      "3 x 7 = 21\n",
      "3 x 8 = 24\n",
      "3 x 9 = 27\n",
      "4 x 1 = 4\n",
      "4 x 2 = 8\n",
      "4 x 3 = 12\n",
      "4 x 4 = 16\n",
      "4 x 5 = 20\n",
      "4 x 6 = 24\n",
      "4 x 7 = 28\n",
      "4 x 8 = 32\n",
      "4 x 9 = 36\n",
      "5 x 1 = 5\n",
      "5 x 2 = 10\n",
      "5 x 3 = 15\n",
      "5 x 4 = 20\n",
      "5 x 5 = 25\n",
      "5 x 6 = 30\n",
      "5 x 7 = 35\n",
      "5 x 8 = 40\n",
      "5 x 9 = 45\n",
      "6 x 1 = 6\n",
      "6 x 2 = 12\n",
      "6 x 3 = 18\n",
      "6 x 4 = 24\n",
      "6 x 5 = 30\n",
      "6 x 6 = 36\n",
      "6 x 7 = 42\n",
      "6 x 8 = 48\n",
      "6 x 9 = 54\n",
      "7 x 1 = 7\n",
      "7 x 2 = 14\n",
      "7 x 3 = 21\n",
      "7 x 4 = 28\n",
      "7 x 5 = 35\n",
      "7 x 6 = 42\n",
      "7 x 7 = 49\n",
      "7 x 8 = 56\n",
      "7 x 9 = 63\n",
      "8 x 1 = 8\n",
      "8 x 2 = 16\n",
      "8 x 3 = 24\n",
      "8 x 4 = 32\n",
      "8 x 5 = 40\n",
      "8 x 6 = 48\n",
      "8 x 7 = 56\n",
      "8 x 8 = 64\n",
      "8 x 9 = 72\n",
      "9 x 1 = 9\n",
      "9 x 2 = 18\n",
      "9 x 3 = 27\n",
      "9 x 4 = 36\n",
      "9 x 5 = 45\n",
      "9 x 6 = 54\n",
      "9 x 7 = 63\n",
      "9 x 8 = 72\n",
      "9 x 9 = 81\n"
     ]
    }
   ],
   "source": [
    "\n",
    "for i in range(2, 9+1):\n",
    "    for j in range(1, 9+1):\n",
    "        print(i, 'x', j, '=', (i*j))\n"
   ]
  },
  {
   "cell_type": "code",
   "execution_count": null,
   "metadata": {},
   "outputs": [],
   "source": []
  }
 ],
 "metadata": {
  "kernelspec": {
   "display_name": "Python 3",
   "language": "python",
   "name": "python3"
  },
  "language_info": {
   "codemirror_mode": {
    "name": "ipython",
    "version": 3
   },
   "file_extension": ".py",
   "mimetype": "text/x-python",
   "name": "python",
   "nbconvert_exporter": "python",
   "pygments_lexer": "ipython3",
   "version": "3.7.6"
  }
 },
 "nbformat": 4,
 "nbformat_minor": 4
}
