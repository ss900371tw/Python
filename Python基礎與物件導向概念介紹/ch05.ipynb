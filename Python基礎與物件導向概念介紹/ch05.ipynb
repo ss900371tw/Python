{
 "cells": [
  {
   "cell_type": "code",
   "execution_count": 6,
   "metadata": {},
   "outputs": [
    {
     "name": "stdout",
     "output_type": "stream",
     "text": [
      "{0, 1, 2, 3, 4, 5} {0, 2, 4, 6, 8}\n",
      "intersection {0, 2, 4}\n",
      "union {0, 1, 2, 3, 4, 5, 6, 8}\n",
      "set1-set2 {1, 3, 5}\n",
      "set2-set1 {8, 6}\n",
      "symm. diff. {1, 3, 5, 6, 8}\n"
     ]
    }
   ],
   "source": [
    "\n",
    "set1 = {0, 1, 2, 3, 4, 5}\n",
    "set2 = set(range(0, 10, 2))\n",
    "print(set1, set2)\n",
    "\n",
    "set3 = set1 & set2\n",
    "print('intersection', set3)\n",
    "set4 = set1 | set2\n",
    "print('union', set4)\n",
    "set5 = set1 - set2\n",
    "print('set1-set2', set5)\n",
    "set6 = set2 - set1\n",
    "print('set2-set1', set6)\n",
    "set7 = set1 ^ set2\n",
    "print('symm. diff.', set7)\n"
   ]
  },
  {
   "cell_type": "code",
   "execution_count": 10,
   "metadata": {},
   "outputs": [
    {
     "name": "stdout",
     "output_type": "stream",
     "text": [
      "7 and 9: {441, 378, 315, 252, 189, 126, 63} sum: 1764\n",
      "7 but not 9: {385, 259, 133, 7, 392, 266, 140, 14, 399, 273, 147, 21, 406, 280, 154, 28, 413, 287, 161, 35, 420, 294, 168, 42, 427, 301, 175, 49, 434, 308, 182, 56, 448, 322, 196, 70, 455, 329, 203, 77, 462, 336, 210, 84, 469, 343, 217, 91, 476, 350, 224, 98, 483, 357, 231, 105, 490, 364, 238, 112, 497, 371, 245, 119} sum: 16128\n",
      "not 7 but 9: {387, 261, 135, 9, 396, 270, 144, 18, 405, 279, 153, 27, 414, 288, 162, 36, 423, 297, 171, 45, 432, 306, 180, 54, 450, 324, 198, 72, 459, 333, 207, 81, 468, 342, 216, 90, 477, 351, 225, 99, 486, 360, 234, 108, 495, 369, 243, 117} sum: 12096\n"
     ]
    }
   ],
   "source": [
    "\n",
    "set7 = set()\n",
    "for i in range(1, 500):\n",
    "    if i%7==0:\n",
    "        set7.add(i)\n",
    "\n",
    "set9 = set()\n",
    "for i in range(1, 500):\n",
    "    if i%9==0:\n",
    "        set9.add(i)\n",
    "\n",
    "print('7 and 9:', set7 & set9, 'sum:', sum(set7&set9))\n",
    "print('7 but not 9:', set7 - set9, 'sum:', sum(set7-set9))\n",
    "print('not 7 but 9:', set9 - set7, 'sum:', sum(set9-set7))\n"
   ]
  },
  {
   "cell_type": "code",
   "execution_count": 15,
   "metadata": {},
   "outputs": [
    {
     "name": "stdout",
     "output_type": "stream",
     "text": [
      "frozenset({1, 2, 3, 4, 5})\n"
     ]
    },
    {
     "ename": "AttributeError",
     "evalue": "'frozenset' object has no attribute 'add'",
     "output_type": "error",
     "traceback": [
      "\u001b[0;31m---------------------------------------------------------------------------\u001b[0m",
      "\u001b[0;31mAttributeError\u001b[0m                            Traceback (most recent call last)",
      "\u001b[0;32m<ipython-input-15-43a21197a3f0>\u001b[0m in \u001b[0;36m<module>\u001b[0;34m\u001b[0m\n\u001b[1;32m      2\u001b[0m \u001b[0mprint\u001b[0m\u001b[0;34m(\u001b[0m\u001b[0mfset1\u001b[0m\u001b[0;34m)\u001b[0m\u001b[0;34m\u001b[0m\u001b[0;34m\u001b[0m\u001b[0m\n\u001b[1;32m      3\u001b[0m \u001b[0;31m#fset1.remove(2)\u001b[0m\u001b[0;34m\u001b[0m\u001b[0;34m\u001b[0m\u001b[0;34m\u001b[0m\u001b[0m\n\u001b[0;32m----> 4\u001b[0;31m \u001b[0mfset1\u001b[0m\u001b[0;34m.\u001b[0m\u001b[0madd\u001b[0m\u001b[0;34m(\u001b[0m\u001b[0;36m999\u001b[0m\u001b[0;34m)\u001b[0m\u001b[0;34m\u001b[0m\u001b[0;34m\u001b[0m\u001b[0m\n\u001b[0m\u001b[1;32m      5\u001b[0m \u001b[0;34m\u001b[0m\u001b[0m\n",
      "\u001b[0;31mAttributeError\u001b[0m: 'frozenset' object has no attribute 'add'"
     ]
    }
   ],
   "source": [
    "\n",
    "fset1 = frozenset({1, 2, 3, 4, 4, 5, 5, 5})\n",
    "print(fset1)\n",
    "#fset1.remove(2)\n",
    "fset1.add(999)\n",
    "\n"
   ]
  },
  {
   "cell_type": "code",
   "execution_count": 21,
   "metadata": {},
   "outputs": [
    {
     "name": "stdout",
     "output_type": "stream",
     "text": [
      "Amy\n",
      "{'name': 'Amy', 'age': 29}\n",
      "{'name': 'Amy', 'age': 29, 'job': 'writer'}\n"
     ]
    }
   ],
   "source": [
    "\n",
    "dic1 = {'name':'Amy', 'age':18}\n",
    "print(dic1['name'])\n",
    "dic1['age'] = 29\n",
    "print(dic1)\n",
    "#print(dic1['writer'])\n",
    "dic1['job'] = 'writer'\n",
    "print(dic1)\n"
   ]
  },
  {
   "cell_type": "code",
   "execution_count": 25,
   "metadata": {},
   "outputs": [
    {
     "name": "stdout",
     "output_type": "stream",
     "text": [
      "{44: [0, 1, 2], (3, 4): {'x': 1}}\n",
      "{8622501: {'name': 'Amy', 'age': 26}, 8622502: {'name': 'Bob', 'age': 33}}\n",
      "Bob\n"
     ]
    }
   ],
   "source": [
    "\n",
    "dic1 = {44:[0, 1, 2], (3, 4):{'x':1}}\n",
    "print(dic1)\n",
    "\n",
    "dic2 = {8622501: {'name': 'Amy', 'age': 26}, 8622502: {'name': 'Bob', 'age': 33}}\n",
    "print(dic2)\n",
    "print(dic2[8622502]['name'])\n",
    "\n"
   ]
  },
  {
   "cell_type": "code",
   "execution_count": 44,
   "metadata": {},
   "outputs": [
    {
     "name": "stdout",
     "output_type": "stream",
     "text": [
      "3\n",
      "name\n",
      "age\n",
      "score\n",
      "('name', 'Amy')\n",
      "('age', 26)\n",
      "('score', 86)\n",
      "key: name , value Amy\n",
      "key: age , value 26\n",
      "key: score , value 86\n",
      "True\n",
      "{'name': 'Amy', 'age': 26}\n"
     ]
    }
   ],
   "source": [
    "\n",
    "dic1 = {'name': 'Amy', 'age': 26, 'score': 86}\n",
    "print(len(dic1))\n",
    "#for k in dic1:\n",
    "for k in dic1.keys():\n",
    "    print(k)\n",
    "\n",
    "for k in dic1.items():\n",
    "    print(k)\n",
    "\n",
    "for x, y in dic1.items():\n",
    "    print('key:', x, ', value', y)\n",
    "\n",
    "#print('age' in dic1.keys())\n",
    "print('age' in dic1)\n",
    "\n",
    "del dic1['score']\n",
    "print(dic1)\n",
    "\n"
   ]
  },
  {
   "cell_type": "code",
   "execution_count": 33,
   "metadata": {},
   "outputs": [
    {
     "name": "stdout",
     "output_type": "stream",
     "text": [
      "{'name': 'Amy', 'age': 26, 'job': 'writer'}\n"
     ]
    }
   ],
   "source": [
    "\n",
    "keys = ('name', 'age', 'job')\n",
    "values = ('Amy', 26, 'writer')\n",
    "dic1 = {}\n",
    "for i in range(len(keys)):\n",
    "    dic1[keys[i]] = values[i]\n",
    "    \n",
    "print(dic1)\n"
   ]
  },
  {
   "cell_type": "code",
   "execution_count": 35,
   "metadata": {},
   "outputs": [
    {
     "name": "stdout",
     "output_type": "stream",
     "text": [
      "{'name': 'Amy', 'age': 26, 'job': 'writer'}\n"
     ]
    },
    {
     "ename": "KeyError",
     "evalue": "'score'",
     "output_type": "error",
     "traceback": [
      "\u001b[0;31m---------------------------------------------------------------------------\u001b[0m",
      "\u001b[0;31mKeyError\u001b[0m                                  Traceback (most recent call last)",
      "\u001b[0;32m<ipython-input-35-521cc7ee4216>\u001b[0m in \u001b[0;36m<module>\u001b[0;34m\u001b[0m\n\u001b[1;32m      2\u001b[0m \u001b[0mprint\u001b[0m\u001b[0;34m(\u001b[0m\u001b[0mdic1\u001b[0m\u001b[0;34m)\u001b[0m\u001b[0;34m\u001b[0m\u001b[0;34m\u001b[0m\u001b[0m\n\u001b[1;32m      3\u001b[0m \u001b[0;34m\u001b[0m\u001b[0m\n\u001b[0;32m----> 4\u001b[0;31m \u001b[0mprint\u001b[0m\u001b[0;34m(\u001b[0m\u001b[0mdic1\u001b[0m\u001b[0;34m[\u001b[0m\u001b[0;34m'score'\u001b[0m\u001b[0;34m]\u001b[0m\u001b[0;34m)\u001b[0m\u001b[0;34m\u001b[0m\u001b[0;34m\u001b[0m\u001b[0m\n\u001b[0m",
      "\u001b[0;31mKeyError\u001b[0m: 'score'"
     ]
    }
   ],
   "source": [
    "\n",
    "dic1 = dict(zip(keys, values))\n",
    "print(dic1)\n",
    "\n",
    "print(dic1['score'])\n"
   ]
  },
  {
   "cell_type": "code",
   "execution_count": 40,
   "metadata": {},
   "outputs": [
    {
     "name": "stdout",
     "output_type": "stream",
     "text": [
      "26\n",
      "0\n",
      "{'name': 'Amy', 'age': 26, 'job': 'writer', 'score': 0}\n"
     ]
    }
   ],
   "source": [
    "\n",
    "print(dic1['age'])\n",
    "#print(dic1['score'])\n",
    "print(dic1.get('score'))\n",
    "if dic1.get('score')==None:\n",
    "    dic1['score']=0\n",
    "print(dic1)\n",
    "del dic1['score']\n"
   ]
  },
  {
   "cell_type": "code",
   "execution_count": 42,
   "metadata": {},
   "outputs": [
    {
     "name": "stdout",
     "output_type": "stream",
     "text": [
      "0\n",
      "Amy\n"
     ]
    }
   ],
   "source": [
    "\n",
    "dic1 = {'name': 'Amy', 'age': 26}\n",
    "print(dic1.get('score', 0))\n",
    "print(dic1.get('name', 'N/A'))\n"
   ]
  },
  {
   "cell_type": "code",
   "execution_count": 46,
   "metadata": {},
   "outputs": [
    {
     "name": "stdout",
     "output_type": "stream",
     "text": [
      "{1, 3, 5}\n",
      "{'o', 'a'}\n"
     ]
    }
   ],
   "source": [
    "\n",
    "list1 = ['a', 'bar', 'candy', 'o', 'car']\n",
    "\n",
    "set1 = {len(e) for e in list1}\n",
    "print(set1)\n",
    "\n",
    "set2 = {e for e in list1 if len(e)==1}\n",
    "print(set2)\n"
   ]
  },
  {
   "cell_type": "code",
   "execution_count": 51,
   "metadata": {},
   "outputs": [
    {
     "name": "stdout",
     "output_type": "stream",
     "text": [
      "168\n",
      "[2, 3, 5, 7, 11, 13, 17, 19, 23, 29, 31, 37, 41, 43, 47, 53, 59, 61, 67, 71, 73, 79, 83, 89, 97, 101, 103, 107, 109, 113, 127, 131, 137, 139, 149, 151, 157, 163, 167, 173, 179, 181, 191, 193, 197, 199, 211, 223, 227, 229, 233, 239, 241, 251, 257, 263, 269, 271, 277, 281, 283, 293, 307, 311, 313, 317, 331, 337, 347, 349, 353, 359, 367, 373, 379, 383, 389, 397, 401, 409, 419, 421, 431, 433, 439, 443, 449, 457, 461, 463, 467, 479, 487, 491, 499, 503, 509, 521, 523, 541, 547, 557, 563, 569, 571, 577, 587, 593, 599, 601, 607, 613, 617, 619, 631, 641, 643, 647, 653, 659, 661, 673, 677, 683, 691, 701, 709, 719, 727, 733, 739, 743, 751, 757, 761, 769, 773, 787, 797, 809, 811, 821, 823, 827, 829, 839, 853, 857, 859, 863, 877, 881, 883, 887, 907, 911, 919, 929, 937, 941, 947, 953, 967, 971, 977, 983, 991, 997]\n"
     ]
    }
   ],
   "source": [
    "\n",
    "n = 1000\n",
    "set1 = set(range(2, n+1))\n",
    "#print(set1)\n",
    "\n",
    "for k in range(2, n+1):\n",
    "    setK = {k2 for k2 in range(k*2, n+1, k)}\n",
    "    set1 = set1-setK\n",
    "\n",
    "print(len(set1))\n",
    "print(sorted(list(set1)))\n"
   ]
  },
  {
   "cell_type": "code",
   "execution_count": null,
   "metadata": {},
   "outputs": [],
   "source": []
  }
 ],
 "metadata": {
  "kernelspec": {
   "display_name": "Python 3",
   "language": "python",
   "name": "python3"
  },
  "language_info": {
   "codemirror_mode": {
    "name": "ipython",
    "version": 3
   },
   "file_extension": ".py",
   "mimetype": "text/x-python",
   "name": "python",
   "nbconvert_exporter": "python",
   "pygments_lexer": "ipython3",
   "version": "3.7.6"
  }
 },
 "nbformat": 4,
 "nbformat_minor": 4
}
