{
 "cells": [
  {
   "cell_type": "code",
   "execution_count": 13,
   "metadata": {},
   "outputs": [
    {
     "name": "stdout",
     "output_type": "stream",
     "text": [
      "6\n",
      "7\n",
      "for...\n",
      "3\n",
      "4\n",
      "5\n",
      "6\n",
      "7\n",
      "8\n",
      "end for...\n",
      "while...\n",
      "0 3\n",
      "1 4\n",
      "2 5\n",
      "3 6\n",
      "4 7\n",
      "5 8\n",
      "list index out of range\n",
      "end while...\n",
      "f\n"
     ]
    },
    {
     "ename": "IndexError",
     "evalue": "tuple index out of range",
     "output_type": "error",
     "traceback": [
      "\u001b[0;31m---------------------------------------------------------------------------\u001b[0m",
      "\u001b[0;31mIndexError\u001b[0m                                Traceback (most recent call last)",
      "\u001b[0;32m<ipython-input-13-bd4066676fac>\u001b[0m in \u001b[0;36m<module>\u001b[0;34m\u001b[0m\n\u001b[1;32m     26\u001b[0m \u001b[0mtup1\u001b[0m \u001b[0;34m=\u001b[0m \u001b[0;34m(\u001b[0m\u001b[0;36m1\u001b[0m\u001b[0;34m,\u001b[0m \u001b[0;36m3\u001b[0m\u001b[0;34m,\u001b[0m \u001b[0;36m5\u001b[0m\u001b[0;34m,\u001b[0m \u001b[0;36m7\u001b[0m\u001b[0;34m,\u001b[0m \u001b[0;36m9\u001b[0m\u001b[0;34m)\u001b[0m\u001b[0;34m\u001b[0m\u001b[0;34m\u001b[0m\u001b[0m\n\u001b[1;32m     27\u001b[0m \u001b[0;31m#print(tup1[99])\u001b[0m\u001b[0;34m\u001b[0m\u001b[0;34m\u001b[0m\u001b[0;34m\u001b[0m\u001b[0m\n\u001b[0;32m---> 28\u001b[0;31m \u001b[0mprint\u001b[0m\u001b[0;34m(\u001b[0m\u001b[0mtup1\u001b[0m\u001b[0;34m[\u001b[0m\u001b[0;36m5\u001b[0m\u001b[0;34m]\u001b[0m\u001b[0;34m)\u001b[0m\u001b[0;34m\u001b[0m\u001b[0;34m\u001b[0m\u001b[0m\n\u001b[0m",
      "\u001b[0;31mIndexError\u001b[0m: tuple index out of range"
     ]
    }
   ],
   "source": [
    "\n",
    "list1 = [3, 4, 5, 6, 7, 8]\n",
    "print(list1[3])\n",
    "print(list1[-2])\n",
    "#print(list1[len(list1)-2])\n",
    "\n",
    "print('for...')\n",
    "for i in list1:\n",
    "    print(i)\n",
    "print('end for...')\n",
    "\n",
    "print('while...')\n",
    "index = 0\n",
    "while True:\n",
    "    try:\n",
    "        print(index, list1[index])\n",
    "        index += 1\n",
    "    except IndexError as e1:\n",
    "        print(e1)\n",
    "        break\n",
    "print('end while...')\n",
    "\n",
    "str1 = 'abcdef'\n",
    "print(str1[-1])\n",
    "#print(str1[len(str1)-1])\n",
    "    \n",
    "tup1 = (1, 3, 5, 7, 9)\n",
    "#print(tup1[99])\n",
    "print(tup1[5])\n"
   ]
  },
  {
   "cell_type": "code",
   "execution_count": 17,
   "metadata": {},
   "outputs": [
    {
     "name": "stdout",
     "output_type": "stream",
     "text": [
      "[3, 4, 40, 6, -12, 8]\n",
      "6\n",
      "5\n",
      "[3, 4, 40, 6, -12]\n"
     ]
    }
   ],
   "source": [
    "\n",
    "list1 = [3, 4, 5, 6, 7, 8]\n",
    "list1[2] = 40\n",
    "list1[-2] = -2*list1[-3]\n",
    "print(list1)\n",
    "\n",
    "print(len(list1))\n",
    "del list1[-1]\n",
    "print(len(list1))\n",
    "print(list1)\n"
   ]
  },
  {
   "cell_type": "code",
   "execution_count": 26,
   "metadata": {},
   "outputs": [
    {
     "name": "stdout",
     "output_type": "stream",
     "text": [
      "[0, 1, 2]\n",
      "[0, 1, 2, 3, 4]\n",
      "[0, 1, 2, 3]\n",
      "[3, 4, 5]\n",
      "[0, 1, 2, 3, 4, 5]\n",
      "[2, 3, 4, 5]\n",
      "[]\n",
      "[3, 4]\n",
      "[0, 1, 2, 3.5, 4.5, 5]\n"
     ]
    }
   ],
   "source": [
    "\n",
    "list1 = [0, 1, 2, 3, 4, 5]\n",
    "print(list1[0:3])\n",
    "print(list1[0:-1])\n",
    "print(list1[:4])     # 從頭開始算\n",
    "print(list1[3:])     # 算到尾端去了\n",
    "print(list1[:])      # 複本！！\n",
    "\n",
    "print(list1[2:999])\n",
    "print(list1[999:2])\n",
    "\n",
    "print(list1[-3:-1])\n",
    "list1[-3:-1] = 3.5, 4.5\n",
    "print(list1)\n"
   ]
  },
  {
   "cell_type": "code",
   "execution_count": 41,
   "metadata": {},
   "outputs": [
    {
     "name": "stdout",
     "output_type": "stream",
     "text": [
      "[0, 2]\n",
      "[5, 3]\n",
      "1 2 3\n",
      "1 [3, 5]\n",
      "[0, 9, 8, 7, 3, 4, 5]\n",
      "[0, 7, 14, 21, 28, 35, 42, 49, 56, 63, 70, 77, 84, 91, 98]\n",
      "[100, 98, 96, 94, 92, 90, 88, 86, 84, 82, 80, 78, 76, 74, 72, 70, 68, 66, 64, 62, 60, 58, 56, 54, 52, 50, 48, 46, 44, 42, 40, 38, 36, 34, 32, 30, 28, 26, 24, 22, 20, 18, 16, 14, 12, 10, 8, 6, 4, 2, 0]\n"
     ]
    }
   ],
   "source": [
    "\n",
    "list1 = [0, 1, 2, 3, 4, 5]\n",
    "print(list1[0:4:2])\n",
    "print(list1[-1:1:-2])\n",
    "a, b, c = list1[1:4]\n",
    "print(a, b, c)\n",
    "#list1[1:4] = 9, 8, 7\n",
    "#print(list1)\n",
    "x, *y = list1[1::2]\n",
    "print(x, y)\n",
    "list1[1:3] = 9, 8, 7\n",
    "print(list1)\n",
    "\n",
    "list2 = list(range(100+1))\n",
    "print(list2[0:100+1:7])\n",
    "print(list2[::-2])\n",
    "\n"
   ]
  },
  {
   "cell_type": "code",
   "execution_count": 43,
   "metadata": {},
   "outputs": [
    {
     "name": "stdout",
     "output_type": "stream",
     "text": [
      "False\n",
      "True\n",
      "True\n",
      "False\n"
     ]
    }
   ],
   "source": [
    "\n",
    "list1 = [0, 1, 2, 3, 4]\n",
    "list2 = list1[:]\n",
    "\n",
    "print(list1 is list2)\n",
    "print(list1 == list2)\n",
    "print(4 in list1)\n",
    "print(99 in list1)\n"
   ]
  },
  {
   "cell_type": "code",
   "execution_count": 47,
   "metadata": {},
   "outputs": [
    {
     "name": "stdout",
     "output_type": "stream",
     "text": [
      "True\n",
      "True\n",
      "True\n",
      "False\n"
     ]
    }
   ],
   "source": [
    "\n",
    "tup1 = (0, 1, 2)\n",
    "tup2 = tup1[:]\n",
    "#tup2 = (0, 1, 2)\n",
    "\n",
    "print(tup1 is tup2)\n",
    "print(tup1 == tup2)\n",
    "print(2 in tup1)\n",
    "print(99 in tup2)\n"
   ]
  },
  {
   "cell_type": "code",
   "execution_count": 49,
   "metadata": {},
   "outputs": [
    {
     "name": "stdout",
     "output_type": "stream",
     "text": [
      "[0, 1, 2, 3, 4, 5]\n",
      "Hi, how are you, John?\n"
     ]
    }
   ],
   "source": [
    "\n",
    "list1 = [0, 1, 2]\n",
    "list2 = list1 + [3, 4, 5]\n",
    "print(list2)\n",
    "\n",
    "str1 = 'Hi'\n",
    "print(str1 + ', how are you, John?')\n"
   ]
  },
  {
   "cell_type": "code",
   "execution_count": 52,
   "metadata": {},
   "outputs": [
    {
     "name": "stdout",
     "output_type": "stream",
     "text": [
      "['a', [0, 1], 'a', [0, 1], 'a', [0, 1]]\n",
      "[0, 1]\n",
      "['a', [0, 999], 'a', [0, 999], 'a', [0, 999]]\n"
     ]
    }
   ],
   "source": [
    "\n",
    "list1 = ['a', [0, 1]]\n",
    "list2 = list1*3\n",
    "print(list2)\n",
    "print(list2[1])\n",
    "list2[1][1] = 999\n",
    "print(list2)\n"
   ]
  },
  {
   "cell_type": "code",
   "execution_count": 53,
   "metadata": {},
   "outputs": [
    {
     "name": "stdout",
     "output_type": "stream",
     "text": [
      "[0, 1, 2, 3, 4]\n",
      "[0, 1, 2, 3, 4]\n",
      "True\n"
     ]
    }
   ],
   "source": [
    "\n",
    "list1 = list2 = [0, 1, 2]\n",
    "list1 += [3, 4]    # list1 = list1+[3,4]\n",
    "print(list1)\n",
    "print(list2)\n",
    "print(list1 is list2)\n"
   ]
  },
  {
   "cell_type": "code",
   "execution_count": 57,
   "metadata": {},
   "outputs": [
    {
     "name": "stdout",
     "output_type": "stream",
     "text": [
      "6\n",
      "0\n",
      "5\n",
      "15\n",
      "6\n",
      "4\n",
      "a\n",
      "d\n"
     ]
    },
    {
     "ename": "TypeError",
     "evalue": "unsupported operand type(s) for +: 'int' and 'str'",
     "output_type": "error",
     "traceback": [
      "\u001b[0;31m---------------------------------------------------------------------------\u001b[0m",
      "\u001b[0;31mTypeError\u001b[0m                                 Traceback (most recent call last)",
      "\u001b[0;32m<ipython-input-57-61d4742919e1>\u001b[0m in \u001b[0;36m<module>\u001b[0;34m\u001b[0m\n\u001b[1;32m     15\u001b[0m \u001b[0mprint\u001b[0m\u001b[0;34m(\u001b[0m\u001b[0mmin\u001b[0m\u001b[0;34m(\u001b[0m\u001b[0mlist3\u001b[0m\u001b[0;34m)\u001b[0m\u001b[0;34m)\u001b[0m\u001b[0;34m\u001b[0m\u001b[0;34m\u001b[0m\u001b[0m\n\u001b[1;32m     16\u001b[0m \u001b[0mprint\u001b[0m\u001b[0;34m(\u001b[0m\u001b[0mmax\u001b[0m\u001b[0;34m(\u001b[0m\u001b[0mlist3\u001b[0m\u001b[0;34m)\u001b[0m\u001b[0;34m)\u001b[0m\u001b[0;34m\u001b[0m\u001b[0;34m\u001b[0m\u001b[0m\n\u001b[0;32m---> 17\u001b[0;31m \u001b[0mprint\u001b[0m\u001b[0;34m(\u001b[0m\u001b[0msum\u001b[0m\u001b[0;34m(\u001b[0m\u001b[0mlist3\u001b[0m\u001b[0;34m)\u001b[0m\u001b[0;34m)\u001b[0m\u001b[0;34m\u001b[0m\u001b[0;34m\u001b[0m\u001b[0m\n\u001b[0m",
      "\u001b[0;31mTypeError\u001b[0m: unsupported operand type(s) for +: 'int' and 'str'"
     ]
    }
   ],
   "source": [
    "\n",
    "list1 = [0, 1, 2, 3, 4, 5]\n",
    "print(len(list1))\n",
    "print(min(list1))\n",
    "print(max(list1))\n",
    "print(sum(list1))\n",
    "\n",
    "list2 = [0, 1, 2, 'a', 4, 5]\n",
    "print(len(list2))\n",
    "#print(min(list2))\n",
    "#print(max(list2))\n",
    "#print(sum(list2))\n",
    "\n",
    "list3 = ['c', 'd', 'a', 'b']\n",
    "print(len(list3))\n",
    "print(min(list3))\n",
    "print(max(list3))\n",
    "print(sum(list3))\n"
   ]
  },
  {
   "cell_type": "code",
   "execution_count": 63,
   "metadata": {},
   "outputs": [
    {
     "name": "stdout",
     "output_type": "stream",
     "text": [
      "1\n",
      "5\n",
      "0\n",
      "3\n"
     ]
    },
    {
     "ename": "ValueError",
     "evalue": "3 is not in list",
     "output_type": "error",
     "traceback": [
      "\u001b[0;31m---------------------------------------------------------------------------\u001b[0m",
      "\u001b[0;31mValueError\u001b[0m                                Traceback (most recent call last)",
      "\u001b[0;32m<ipython-input-63-740202206523>\u001b[0m in \u001b[0;36m<module>\u001b[0;34m\u001b[0m\n\u001b[1;32m      4\u001b[0m \u001b[0mprint\u001b[0m\u001b[0;34m(\u001b[0m\u001b[0mlist1\u001b[0m\u001b[0;34m.\u001b[0m\u001b[0mindex\u001b[0m\u001b[0;34m(\u001b[0m\u001b[0;36m3\u001b[0m\u001b[0;34m)\u001b[0m\u001b[0;34m)\u001b[0m\u001b[0;34m\u001b[0m\u001b[0;34m\u001b[0m\u001b[0m\n\u001b[1;32m      5\u001b[0m \u001b[0mprint\u001b[0m\u001b[0;34m(\u001b[0m\u001b[0mlist1\u001b[0m\u001b[0;34m.\u001b[0m\u001b[0mindex\u001b[0m\u001b[0;34m(\u001b[0m\u001b[0;36m3\u001b[0m\u001b[0;34m,\u001b[0m \u001b[0;36m1\u001b[0m\u001b[0;34m)\u001b[0m\u001b[0;34m)\u001b[0m\u001b[0;34m\u001b[0m\u001b[0;34m\u001b[0m\u001b[0m\n\u001b[0;32m----> 6\u001b[0;31m \u001b[0mprint\u001b[0m\u001b[0;34m(\u001b[0m\u001b[0mlist1\u001b[0m\u001b[0;34m.\u001b[0m\u001b[0mindex\u001b[0m\u001b[0;34m(\u001b[0m\u001b[0;36m3\u001b[0m\u001b[0;34m,\u001b[0m \u001b[0;36m4\u001b[0m\u001b[0;34m)\u001b[0m\u001b[0;34m)\u001b[0m\u001b[0;34m\u001b[0m\u001b[0;34m\u001b[0m\u001b[0m\n\u001b[0m\u001b[1;32m      7\u001b[0m \u001b[0;34m\u001b[0m\u001b[0m\n",
      "\u001b[0;31mValueError\u001b[0m: 3 is not in list"
     ]
    }
   ],
   "source": [
    "\n",
    "list1 = [3, 'a', 7, 3, 'b', (1, 2), 'c']\n",
    "print(list1.index('a'))\n",
    "print(list1.index((1, 2)))\n",
    "print(list1.index(3))\n",
    "print(list1.index(3, 1))\n",
    "print(list1.index(3, 4))\n",
    "\n"
   ]
  },
  {
   "cell_type": "code",
   "execution_count": 64,
   "metadata": {},
   "outputs": [
    {
     "name": "stdout",
     "output_type": "stream",
     "text": [
      "[0, 1, 2, 3]\n",
      "[0, 1, 2, 3, 4, 5]\n",
      "[0, 1, 2, 'a', 3, 4, 5]\n",
      "[0, 1, 'a', 3, 4, 5]\n",
      "[0, 1, 'a', 3, 4]\n",
      "[4, 3, 'a', 1, 0]\n"
     ]
    }
   ],
   "source": [
    "\n",
    "list1 = [0, 1, 2]\n",
    "list1.append(3)\n",
    "print(list1)\n",
    "list1.extend([4, 5])\n",
    "print(list1)\n",
    "list1.insert(3, 'a')\n",
    "print(list1)\n",
    "list1.remove(2)\n",
    "print(list1)\n",
    "list1.pop()\n",
    "print(list1)\n",
    "list1.reverse()\n",
    "print(list1)\n"
   ]
  },
  {
   "cell_type": "code",
   "execution_count": 72,
   "metadata": {},
   "outputs": [
    {
     "name": "stdout",
     "output_type": "stream",
     "text": [
      "[(1, 'a'), (2, 'b'), (3, 'c')]\n",
      "[(0, 'a'), (1, 'b'), (2, 'c')]\n",
      "[1, 2, 3, 4, 5, 6, 7, 8, 9, 10, 11, 12, 13, 14, 15, 16, 17, 18, 19, 20, 21, 22, 23, 24, 25, 26, 27, 28, 29, 30, 31, 32, 33, 34, 35, 36, 37, 38, 39, 40, 41, 42, 43, 44, 45, 46, 47, 48, 49, 50, 51, 52, 53, 54, 55, 56, 57, 58, 59, 60, 61, 62, 63, 64, 65, 66, 67, 68, 69, 70, 71, 72, 73, 74, 75, 76, 77, 78, 79, 80, 81, 82, 83, 84, 85, 86, 87, 88, 89, 90, 91, 92, 93, 94, 95, 96, 97, 98, 99, 100]\n",
      "[3, 2, 1]\n"
     ]
    }
   ],
   "source": [
    "\n",
    "list1 = [1, 2, 3]\n",
    "list2 = ['a', 'b', 'c']\n",
    "print(list(zip(list1, list2)))\n",
    "print(list(enumerate(list2)))\n",
    "\n",
    "list3 = list(range(100, 0, -1))\n",
    "print(sorted(list3))\n",
    "print(list(reversed(list1)))\n"
   ]
  },
  {
   "cell_type": "code",
   "execution_count": 74,
   "metadata": {},
   "outputs": [
    {
     "name": "stdout",
     "output_type": "stream",
     "text": [
      "0\n",
      "3\n",
      "7\n",
      "10\n",
      "14\n",
      "17\n"
     ]
    }
   ],
   "source": [
    "\n",
    "#請寫出一段程式碼輸出list1所有出現元素3的索引值。\n",
    "list1 = [3, 'a', 7, 3, 'b', (1, 2), 'c', 3, 'a', 7, 3, 'b', (1, 2), 'c', 3, 'a', 7, 3, 'b', (1, 2), 'c']\n",
    "\n",
    "target = 3\n",
    "index = 0\n",
    "for item in list1:\n",
    "    if item==target:\n",
    "        print(index)\n",
    "    index += 1\n"
   ]
  },
  {
   "cell_type": "code",
   "execution_count": 78,
   "metadata": {},
   "outputs": [
    {
     "name": "stdout",
     "output_type": "stream",
     "text": [
      "0\n",
      "3\n",
      "7\n",
      "10\n",
      "14\n",
      "17\n",
      "done\n"
     ]
    }
   ],
   "source": [
    "\n",
    "#請寫出一段程式碼輸出list1所有出現元素3的索引值。\n",
    "list1 = [3, 'a', 7, 3, 'b', (1, 2), 'c', 3, 'a', 7, 3, 'b', (1, 2), 'c', 3, 'a', 7, 3, 'b', (1, 2), 'c']\n",
    "\n",
    "target = 3\n",
    "idx = 0\n",
    "\n",
    "while True:\n",
    "    try:\n",
    "        i = list1.index(target, idx)\n",
    "        print(i)\n",
    "    except:\n",
    "        break\n",
    "    idx = i+1\n",
    "\n",
    "print('done')\n",
    "\n"
   ]
  },
  {
   "cell_type": "code",
   "execution_count": 84,
   "metadata": {},
   "outputs": [
    {
     "name": "stdout",
     "output_type": "stream",
     "text": [
      "0 Amy 70\n",
      "1 Bob 92\n",
      "2 Cathy 85\n"
     ]
    }
   ],
   "source": [
    "\n",
    "names = ['Amy', 'Bob', 'Cathy']\n",
    "scores = [70, 92, 85]\n",
    "#print(list(enumerate(zip(names, scores))))\n",
    "\n",
    "for item in enumerate(zip(names, scores)):\n",
    "    print(item[0], item[1][0], item[1][1])\n",
    "\n"
   ]
  },
  {
   "cell_type": "code",
   "execution_count": 90,
   "metadata": {},
   "outputs": [
    {
     "name": "stdout",
     "output_type": "stream",
     "text": [
      "3\n",
      "a\n",
      "7\n",
      "3\n",
      "b\n",
      "(1, 2)\n",
      "c\n",
      "3\n",
      "a\n",
      "7\n",
      "3\n",
      "b\n",
      "(1, 2)\n",
      "c\n",
      "3\n",
      "a\n",
      "7\n",
      "3\n",
      "b\n",
      "(1, 2)\n",
      "c\n"
     ]
    }
   ],
   "source": [
    "\n",
    "list1 = [3, 'a', 7, 3, 'b', (1, 2), 'c', 3, 'a', 7, 3, 'b', (1, 2), 'c', 3, 'a', 7, 3, 'b', (1, 2), 'c']\n",
    "\n",
    "#for i in list1:\n",
    "#    print(i)\n",
    "\n",
    "it = iter(list1)     # list1 => iterable, it => iterator\n",
    "while True:\n",
    "    try:\n",
    "        print(next(it))\n",
    "    except StopIteration:\n",
    "        break\n",
    "\n"
   ]
  },
  {
   "cell_type": "code",
   "execution_count": 92,
   "metadata": {},
   "outputs": [
    {
     "name": "stdout",
     "output_type": "stream",
     "text": [
      "Product: 654729075\n"
     ]
    }
   ],
   "source": [
    "\n",
    "list1 = [1, 3, 5, 7, 9, 11, 13, 15, 17, 19]\n",
    "\n",
    "def prod(itr):\n",
    "    it = iter(itr)\n",
    "    p = 1\n",
    "    while True:\n",
    "        try:\n",
    "            p *= next(it)\n",
    "        except:\n",
    "            break\n",
    "    return p\n",
    "\n",
    "p0 = prod(list1)\n",
    "print('Product:', p0)\n"
   ]
  },
  {
   "cell_type": "code",
   "execution_count": 95,
   "metadata": {},
   "outputs": [
    {
     "name": "stdout",
     "output_type": "stream",
     "text": [
      "Factorial: 2432902008176640000\n"
     ]
    }
   ],
   "source": [
    "\n",
    "def factorial(n):\n",
    "    #numlist = list(range(1, n+1))\n",
    "    #return prod(numlist)\n",
    "    return prod(range(1, n+1))\n",
    "\n",
    "f0 = factorial(20)\n",
    "print('Factorial:', f0)\n"
   ]
  },
  {
   "cell_type": "code",
   "execution_count": 96,
   "metadata": {},
   "outputs": [
    {
     "name": "stdout",
     "output_type": "stream",
     "text": [
      "[1, 6, 120, 5040, 362880]\n"
     ]
    }
   ],
   "source": [
    "\n",
    "list1 = [1, 3, 5, 7, 9]\n",
    "list2 = []\n",
    "\n",
    "for i in list1:\n",
    "    f0 = factorial(i)\n",
    "    list2.append(f0)\n",
    "\n",
    "print(list2)\n"
   ]
  },
  {
   "cell_type": "code",
   "execution_count": 98,
   "metadata": {},
   "outputs": [
    {
     "name": "stdout",
     "output_type": "stream",
     "text": [
      "[1, 6, 120, 5040, 362880]\n"
     ]
    }
   ],
   "source": [
    "\n",
    "list1 = [1, 3, 5, 7, 9]\n",
    "list2 = [factorial(i) for i in list1]\n",
    "print(list2)\n"
   ]
  },
  {
   "cell_type": "code",
   "execution_count": 101,
   "metadata": {},
   "outputs": [
    {
     "name": "stdout",
     "output_type": "stream",
     "text": [
      "Sum: 900\n",
      "Avg: 225.0\n"
     ]
    }
   ],
   "source": [
    "\n",
    "sp = [30, 45, 1024, 2500, 699, 126]\n",
    "\n",
    "under1000 = [i for i in sp if i<1000]\n",
    "#print(under1000)\n",
    "sum1 = sum(under1000)\n",
    "print('Sum:', sum1)\n",
    "print('Avg:', sum1/len(under1000))\n"
   ]
  },
  {
   "cell_type": "code",
   "execution_count": 105,
   "metadata": {},
   "outputs": [
    {
     "name": "stdout",
     "output_type": "stream",
     "text": [
      "[63, 126, 189, 252, 315, 378, 441]\n",
      "Sum: 1764\n"
     ]
    }
   ],
   "source": [
    "\n",
    "list1 = [num for num in range(1, 500) if num%7==0 and num%9==0]\n",
    "print(list1)\n",
    "print('Sum:', sum(list1))\n"
   ]
  },
  {
   "cell_type": "code",
   "execution_count": 108,
   "metadata": {},
   "outputs": [
    {
     "name": "stdout",
     "output_type": "stream",
     "text": [
      "2*1=2\n",
      "2*2=4\n",
      "2*3=6\n",
      "2*4=8\n",
      "2*5=10\n",
      "2*6=12\n",
      "2*7=14\n",
      "2*8=16\n",
      "2*9=18\n",
      "3*1=3\n",
      "3*2=6\n",
      "3*3=9\n",
      "3*4=12\n",
      "3*5=15\n",
      "3*6=18\n",
      "3*7=21\n",
      "3*8=24\n",
      "3*9=27\n",
      "4*1=4\n",
      "4*2=8\n",
      "4*3=12\n",
      "4*4=16\n",
      "4*5=20\n",
      "4*6=24\n",
      "4*7=28\n",
      "4*8=32\n",
      "4*9=36\n",
      "5*1=5\n",
      "5*2=10\n",
      "5*3=15\n",
      "5*4=20\n",
      "5*5=25\n",
      "5*6=30\n",
      "5*7=35\n",
      "5*8=40\n",
      "5*9=45\n",
      "6*1=6\n",
      "6*2=12\n",
      "6*3=18\n",
      "6*4=24\n",
      "6*5=30\n",
      "6*6=36\n",
      "6*7=42\n",
      "6*8=48\n",
      "6*9=54\n",
      "7*1=7\n",
      "7*2=14\n",
      "7*3=21\n",
      "7*4=28\n",
      "7*5=35\n",
      "7*6=42\n",
      "7*7=49\n",
      "7*8=56\n",
      "7*9=63\n",
      "8*1=8\n",
      "8*2=16\n",
      "8*3=24\n",
      "8*4=32\n",
      "8*5=40\n",
      "8*6=48\n",
      "8*7=56\n",
      "8*8=64\n",
      "8*9=72\n",
      "9*1=9\n",
      "9*2=18\n",
      "9*3=27\n",
      "9*4=36\n",
      "9*5=45\n",
      "9*6=54\n",
      "9*7=63\n",
      "9*8=72\n",
      "9*9=81\n"
     ]
    }
   ],
   "source": [
    "\n",
    "list1 = [str(i)+'*'+str(j)+'='+str(i*j) \\\n",
    "         for i in range(2, 9+1) \\\n",
    "         for j in range(1, 9+1)]\n",
    "#print(list1)\n",
    "for str1 in list1:\n",
    "    print(str1)\n"
   ]
  },
  {
   "cell_type": "code",
   "execution_count": 110,
   "metadata": {},
   "outputs": [
    {
     "name": "stdout",
     "output_type": "stream",
     "text": [
      "(1, 101234.0)\n",
      "(2, 102483.22756000001)\n",
      "(3, 103747.8705880904)\n",
      "(4, 105028.11931114744)\n",
      "(5, 106324.16630344701)\n",
      "(6, 107636.20651563155)\n",
      "(7, 108964.43730403445)\n",
      "(8, 110309.05846036623)\n",
      "(9, 111670.27224176716)\n",
      "(10, 113048.28340123054)\n",
      "(11, 114443.29921840175)\n",
      "(12, 115855.52953075682)\n",
      "(13, 117285.18676516638)\n",
      "(14, 118732.48596984851)\n",
      "(15, 120197.64484671644)\n",
      "(16, 121680.88378412493)\n",
      "(17, 123182.42589002104)\n",
      "(18, 124702.4970255039)\n",
      "(19, 126241.32583879861)\n",
      "(20, 127799.1437996494)\n"
     ]
    }
   ],
   "source": [
    "\n",
    "# 複利, n=100000, r=1.234%, t=20\n",
    "n = 100000\n",
    "r = 0.01234\n",
    "t = 20\n",
    "list1 = [(i, n*(1+r)**i) for i in range(1, t+1)]\n",
    "\n",
    "for item in list1:\n",
    "    print(item)\n"
   ]
  },
  {
   "cell_type": "code",
   "execution_count": null,
   "metadata": {},
   "outputs": [],
   "source": []
  }
 ],
 "metadata": {
  "kernelspec": {
   "display_name": "Python 3",
   "language": "python",
   "name": "python3"
  },
  "language_info": {
   "codemirror_mode": {
    "name": "ipython",
    "version": 3
   },
   "file_extension": ".py",
   "mimetype": "text/x-python",
   "name": "python",
   "nbconvert_exporter": "python",
   "pygments_lexer": "ipython3",
   "version": "3.7.6"
  }
 },
 "nbformat": 4,
 "nbformat_minor": 4
}
