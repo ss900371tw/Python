{
 "cells": [
  {
   "cell_type": "code",
   "execution_count": 13,
   "metadata": {},
   "outputs": [
    {
     "name": "stdout",
     "output_type": "stream",
     "text": [
      "[1, 2, 3, 4, \"5\", \"abcd\"]\n",
      "[\"amy\", \"bob\", \"john\"]\n",
      "<class 'str'>\n"
     ]
    }
   ],
   "source": [
    "\n",
    "import json\n",
    "\n",
    "list1 = [1, 2, 3, 4, \"5\", 'abcd']\n",
    "jsonstr1 = json.dumps(list1)\n",
    "print(jsonstr1)\n",
    "\n",
    "tup1 = ('amy', 'bob', 'john')\n",
    "jsonstr2 = json.dumps(tup1)\n",
    "print(jsonstr2)\n",
    "print(type(jsonstr2))\n"
   ]
  },
  {
   "cell_type": "code",
   "execution_count": 1,
   "metadata": {},
   "outputs": [
    {
     "name": "stdout",
     "output_type": "stream",
     "text": [
      "{\"name\": \"John\", \"age\": 36, \"gender\": \"male\"}\n"
     ]
    }
   ],
   "source": [
    "\n",
    "import json\n",
    "\n",
    "dic1 = {'name':'John', 'age':36, 'gender':'male'}\n",
    "jsonstr3 = json.dumps(dic1)\n",
    "print(jsonstr3)\n"
   ]
  },
  {
   "cell_type": "code",
   "execution_count": 2,
   "metadata": {},
   "outputs": [
    {
     "name": "stdout",
     "output_type": "stream",
     "text": [
      "{\"name\": \"John\", \"44\": 36, \"gender\": \"male\"}\n"
     ]
    }
   ],
   "source": [
    "\n",
    "import json\n",
    "\n",
    "dic1 = {'name':'John', 44:36, 'gender':'male'}\n",
    "jsonstr3 = json.dumps(dic1)\n",
    "print(jsonstr3)\n",
    "\n"
   ]
  },
  {
   "cell_type": "code",
   "execution_count": 16,
   "metadata": {},
   "outputs": [
    {
     "name": "stdout",
     "output_type": "stream",
     "text": [
      "{\"Apple\": 5, \"Banana\": 3, \"Peach\": 6, \"Tomato\": 20, \"Watermelon\": 1}\n"
     ]
    }
   ],
   "source": [
    "\n",
    "import json\n",
    "\n",
    "dic1 = {'Banana':3, 'Apple':5, 'Watermelon':1, 'Peach':6, 'Tomato':20}\n",
    "jsonstr4 = json.dumps(dic1, sort_keys=True)\n",
    "print(jsonstr4)\n"
   ]
  },
  {
   "cell_type": "code",
   "execution_count": 3,
   "metadata": {},
   "outputs": [
    {
     "name": "stdout",
     "output_type": "stream",
     "text": [
      "{\n",
      "    \"Apple\": 5,\n",
      "    \"Banana\": 3,\n",
      "    \"Peach\": 6,\n",
      "    \"Tomato\": 20,\n",
      "    \"Watermelon\": 1\n",
      "}\n"
     ]
    }
   ],
   "source": [
    "\n",
    "import json\n",
    "\n",
    "dic1 = {'Banana':3, 'Apple':5, 'Watermelon':1, 'Peach':6, 'Tomato':20}\n",
    "jsonstr4 = json.dumps(dic1, sort_keys=True, indent=4)\n",
    "print(jsonstr4)\n",
    "\n"
   ]
  },
  {
   "cell_type": "code",
   "execution_count": 4,
   "metadata": {},
   "outputs": [
    {
     "name": "stdout",
     "output_type": "stream",
     "text": [
      "<class 'dict'>\n",
      "Apple ==> 5\n",
      "Banana ==> 3\n",
      "Peach ==> 6\n",
      "Tomato ==> 20\n",
      "Watermelon ==> 1\n"
     ]
    }
   ],
   "source": [
    "\n",
    "import json\n",
    "\n",
    "jsonstr5 = '{\"Apple\": 5, \"Banana\": 3, \"Peach\": 6, \"Tomato\": 20, \"Watermelon\": 1}'\n",
    "pyobj = json.loads(jsonstr5)\n",
    "print(type(pyobj))\n",
    "\n",
    "for k, v in pyobj.items():\n",
    "    print(k, '==>', v)\n",
    "\n"
   ]
  },
  {
   "cell_type": "code",
   "execution_count": 5,
   "metadata": {},
   "outputs": [
    {
     "name": "stdout",
     "output_type": "stream",
     "text": [
      "{\"1\":{\"USA\": \"Washington\"},\"2\":{\"Japan\": \"Tokyo\"},\"3\":{\"China\": \"Beijing\"}}\n",
      "{'1': {'USA': 'Washington'}, '2': {'Japan': 'Tokyo'}, '3': {'China': 'Beijing'}}\n"
     ]
    }
   ],
   "source": [
    "\n",
    "import json\n",
    "\n",
    "jstr1 = '{\"USA\": \"Washington\"}'\n",
    "jstr2 = '{\"Japan\": \"Tokyo\"}'\n",
    "jstr3 = '{\"China\": \"Beijing\"}'\n",
    "jstrAll = '{\"1\":'+jstr1+',\"2\":'+jstr2+',\"3\":'+jstr3+'}'\n",
    "print(jstrAll)\n",
    "dic1 = json.loads(jstrAll)\n",
    "print(dic1)\n"
   ]
  },
  {
   "cell_type": "code",
   "execution_count": 20,
   "metadata": {},
   "outputs": [
    {
     "name": "stdout",
     "output_type": "stream",
     "text": [
      "[{\"USA\": \"Washington\"},{\"Japan\": \"Tokyo\"},{\"China\": \"Beijing\"}]\n",
      "[{'USA': 'Washington'}, {'Japan': 'Tokyo'}, {'China': 'Beijing'}]\n"
     ]
    }
   ],
   "source": [
    "\n",
    "import json\n",
    "\n",
    "jstr1 = '{\"USA\": \"Washington\"}'\n",
    "jstr2 = '{\"Japan\": \"Tokyo\"}'\n",
    "jstr3 = '{\"China\": \"Beijing\"}'\n",
    "jstrAll = '['+jstr1+','+jstr2+','+jstr3+']'\n",
    "print(jstrAll)\n",
    "list1 = json.loads(jstrAll)\n",
    "print(list1)\n"
   ]
  },
  {
   "cell_type": "code",
   "execution_count": 10,
   "metadata": {},
   "outputs": [],
   "source": [
    "\n",
    "import json\n",
    "\n",
    "dic1 = {'Banana':3, 'Apple':5, 'Watermelon':1, 'Peach':6, 'Tomato':20}\n",
    "\n",
    "outfname = 'jsonout.txt'\n",
    "outfile = open(outfname, 'wt', encoding='utf-8')\n",
    "\n",
    "json.dump(dic1, outfile)\n",
    "#你也可以這樣寫！\n",
    "#outfile.write(json.dumps(dic1))\n",
    "\n",
    "outfile.close()\n"
   ]
  },
  {
   "cell_type": "code",
   "execution_count": 6,
   "metadata": {},
   "outputs": [
    {
     "name": "stdout",
     "output_type": "stream",
     "text": [
      "<class 'dict'>\n",
      "{'Banana': 3, 'Apple': 5, 'Watermelon': 1, 'Peach': 6, 'Tomato': 20}\n"
     ]
    }
   ],
   "source": [
    "\n",
    "import json\n",
    "\n",
    "infname = 'jsonout.txt'\n",
    "infile = open(infname, 'rt', encoding='utf-8')\n",
    "\n",
    "pyobj = json.load(infile)\n",
    "print(type(pyobj))\n",
    "print(pyobj)\n",
    "\n",
    "infile.close()\n",
    "\n"
   ]
  },
  {
   "cell_type": "code",
   "execution_count": 17,
   "metadata": {},
   "outputs": [
    {
     "name": "stdout",
     "output_type": "stream",
     "text": [
      "{   \"Banana\": 3,\"Apple\": 5,\"Watermelon\": 1,\"Peach\": 6,\"Tomato\": 20}\n",
      "<class 'dict'>\n"
     ]
    }
   ],
   "source": [
    "\n",
    "import json\n",
    "\n",
    "infname = 'jsonout2.txt'\n",
    "infile = open(infname, 'rt', encoding='utf-8')\n",
    "\n",
    "jsonstr = ''\n",
    "for line in infile:\n",
    "    jsonstr += line.strip()\n",
    "print(jsonstr)\n",
    "\n",
    "infile.close()\n",
    "\n",
    "pyobj = json.loads(jsonstr)\n",
    "print(type(pyobj))\n"
   ]
  },
  {
   "cell_type": "code",
   "execution_count": 25,
   "metadata": {},
   "outputs": [
    {
     "name": "stdout",
     "output_type": "stream",
     "text": [
      "<class 'dict'>\n",
      "key CorpInfo map to <class 'list'>\n",
      "key TradeDates map to <class 'list'>\n",
      "key MainData map to <class 'dict'>\n",
      "['2330', '台積電', '2330.TW', '半導體業']\n",
      "4060 trade dates\n",
      "First trade date: 2005-01-03\n",
      "Last trade date: 2021-06-11\n",
      "MainData key OPList map to <class 'list'> length 4060\n",
      "MainData key HIList map to <class 'list'> length 4060\n",
      "MainData key LOList map to <class 'list'> length 4060\n",
      "MainData key CLList map to <class 'list'> length 4060\n",
      "MainData key AMPList map to <class 'list'> length 4060\n",
      "MainData key VOLList map to <class 'list'> length 4060\n",
      "MainData key VALList map to <class 'list'> length 4060\n",
      "MainData key TRAList map to <class 'list'> length 4060\n"
     ]
    }
   ],
   "source": [
    "\n",
    "import json\n",
    "\n",
    "infname = '2330.json'\n",
    "infile = open(infname, 'rt', encoding='utf-8')\n",
    "dic1 = json.load(infile)\n",
    "infile.close()\n",
    "\n",
    "print(type(dic1))\n",
    "\n",
    "for k, v in dic1.items():\n",
    "    print('key', k, 'map to', type(v))\n",
    "\n",
    "print(dic1['CorpInfo'])\n",
    "print(len(dic1['TradeDates']), 'trade dates')\n",
    "print('First trade date:', dic1['TradeDates'][0])\n",
    "print('Last trade date:', dic1['TradeDates'][-1])\n",
    "\n",
    "for k2, v2 in dic1['MainData'].items():\n",
    "    print('MainData key', k2, 'map to', type(v2), 'length', len(v2))\n"
   ]
  },
  {
   "cell_type": "code",
   "execution_count": null,
   "metadata": {},
   "outputs": [],
   "source": []
  },
  {
   "cell_type": "code",
   "execution_count": null,
   "metadata": {},
   "outputs": [],
   "source": []
  }
 ],
 "metadata": {
  "kernelspec": {
   "display_name": "Python 3",
   "language": "python",
   "name": "python3"
  },
  "language_info": {
   "codemirror_mode": {
    "name": "ipython",
    "version": 3
   },
   "file_extension": ".py",
   "mimetype": "text/x-python",
   "name": "python",
   "nbconvert_exporter": "python",
   "pygments_lexer": "ipython3",
   "version": "3.8.8"
  }
 },
 "nbformat": 4,
 "nbformat_minor": 4
}
