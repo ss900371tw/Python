{
 "cells": [
  {
   "cell_type": "code",
   "execution_count": 8,
   "metadata": {},
   "outputs": [
    {
     "name": "stdout",
     "output_type": "stream",
     "text": [
      "SQL table customers created.\n",
      "SQL table orders created.\n"
     ]
    }
   ],
   "source": [
    "\n",
    "import sqlite3\n",
    "\n",
    "dbname = 'mytest.db'\n",
    "conn = sqlite3.connect(dbname)\n",
    "\n",
    "# 建立customers資料表：(customer_id, customer_name)\n",
    "sqlstr = 'CREATE TABLE customers (customer_id INTEGER, customer_name TEXT, PRIMARY KEY(customer_id));'\n",
    "conn.execute(sqlstr)\n",
    "print('SQL table customers created.')\n",
    "\n",
    "sqlstr = 'CREATE TABLE orders (order_id INTEGER, customer_id INTEGER, order_date TEXT, amount REAL, PRIMARY KEY(order_id));'\n",
    "conn.execute(sqlstr)\n",
    "print('SQL table orders created.')\n",
    "\n",
    "conn.commit()\n",
    "conn.close()\n"
   ]
  },
  {
   "cell_type": "code",
   "execution_count": 6,
   "metadata": {},
   "outputs": [
    {
     "name": "stdout",
     "output_type": "stream",
     "text": [
      "SQL table customers dropped\n",
      "SQL table orders dropped\n"
     ]
    }
   ],
   "source": [
    "\n",
    "import sqlite3\n",
    "\n",
    "dbname = 'mytest.db'\n",
    "conn = sqlite3.connect(dbname)\n",
    "\n",
    "sqlstr = 'DROP TABLE customers;'\n",
    "conn.execute(sqlstr)\n",
    "print('SQL table customers dropped')\n",
    "\n",
    "sqlstr = 'DROP TABLE orders;'\n",
    "conn.execute(sqlstr)\n",
    "print('SQL table orders dropped')\n",
    "\n",
    "conn.commit()\n",
    "conn.close()\n",
    "\n"
   ]
  },
  {
   "cell_type": "code",
   "execution_count": 14,
   "metadata": {},
   "outputs": [
    {
     "name": "stdout",
     "output_type": "stream",
     "text": [
      "INSERT INTO customers (customer_id, customer_name) VALUES (101, \"John Doe\");\n",
      "INSERT INTO customers (customer_id, customer_name) VALUES (102, \"Bruce Wayne\");\n",
      "INSERT INTO customers (customer_id, customer_name) VALUES (103, \"Tony Stark\");\n"
     ]
    }
   ],
   "source": [
    "\n",
    "import sqlite3\n",
    "\n",
    "dbname = 'mytest.db'\n",
    "conn = sqlite3.connect(dbname)\n",
    "\n",
    "dic1 = {101:'John Doe', 102:'Bruce Wayne', 103:'Tony Stark'}\n",
    "\n",
    "for key in dic1.keys():\n",
    "    sqlstr = 'INSERT INTO customers (customer_id, customer_name) VALUES ('+str(key)+', \"'+dic1[key]+'\");'\n",
    "    conn.execute(sqlstr)\n",
    "    print(sqlstr)\n",
    "\n",
    "conn.commit()\n",
    "conn.close()\n"
   ]
  },
  {
   "cell_type": "code",
   "execution_count": 13,
   "metadata": {},
   "outputs": [
    {
     "name": "stdout",
     "output_type": "stream",
     "text": [
      "DELETE FROM customers WHERE customer_id=1034;\n",
      "Delete failed.\n"
     ]
    }
   ],
   "source": [
    "\n",
    "import sqlite3\n",
    "\n",
    "dbname = 'mytest.db'\n",
    "conn = sqlite3.connect(dbname)\n",
    "cur = conn.cursor()\n",
    "\n",
    "cid = 103\n",
    "sqlstr = 'DELETE FROM customers WHERE customer_id='+str(cid)+';'\n",
    "#sqlstr = 'DELETE FROM customers;' will delete all records in customers\n",
    "print(sqlstr)\n",
    "cur.execute(sqlstr)\n",
    "if cur.rowcount==1:\n",
    "    print('Customer id '+str(cid)+' deleted.')\n",
    "else:\n",
    "    print('Delete failed.')\n",
    "\n",
    "conn.commit()\n",
    "conn.close()\n"
   ]
  },
  {
   "cell_type": "code",
   "execution_count": 35,
   "metadata": {},
   "outputs": [
    {
     "name": "stdout",
     "output_type": "stream",
     "text": [
      "UPDATE customers SET customer_name=\"John Smith\" WHERE customer_id=101;\n",
      "Customer id 101 updated.\n"
     ]
    }
   ],
   "source": [
    "\n",
    "import sqlite3\n",
    "\n",
    "dbname = 'mytest.db'\n",
    "conn = sqlite3.connect(dbname)\n",
    "cur = conn.cursor()\n",
    "\n",
    "sqlstr = 'UPDATE customers SET customer_name=\"John Smith\" WHERE customer_id=101;'\n",
    "print(sqlstr)\n",
    "cur.execute(sqlstr)\n",
    "if cur.rowcount==1:\n",
    "    print('Customer id 101 updated.')\n",
    "else:\n",
    "    print('Update failed.')\n",
    "\n",
    "conn.commit()\n",
    "conn.close()\n"
   ]
  },
  {
   "cell_type": "code",
   "execution_count": 20,
   "metadata": {},
   "outputs": [
    {
     "name": "stdout",
     "output_type": "stream",
     "text": [
      "SELECT * FROM customers;\n",
      "Result set size: 3\n",
      "(101, 'John Doe')\n",
      "(102, 'Bruce Wayne')\n",
      "(103, 'Tony Stark')\n",
      "Result set size: 3\n"
     ]
    }
   ],
   "source": [
    "\n",
    "import sqlite3\n",
    "\n",
    "dbname = 'mytest.db'\n",
    "conn = sqlite3.connect(dbname)\n",
    "cur = conn.cursor()\n",
    "\n",
    "sqlstr = 'SELECT * FROM customers;'\n",
    "#sqlstr = 'SELECT customer_name FROM customers;'\n",
    "print(sqlstr)\n",
    "results = cur.execute(sqlstr)\n",
    "print('Result set size:', len(list(results)))\n",
    "\n",
    "size = 0\n",
    "results = cur.execute(sqlstr)\n",
    "for rec in results:\n",
    "    print(rec)\n",
    "    size += 1\n",
    "print('Result set size:', size)\n",
    "\n",
    "conn.commit()\n",
    "conn.close()\n"
   ]
  },
  {
   "cell_type": "code",
   "execution_count": 45,
   "metadata": {},
   "outputs": [
    {
     "name": "stdout",
     "output_type": "stream",
     "text": [
      "SELECT customer_name FROM customers WHERE customer_id>=102;\n",
      "('Bruce Wayne',)\n",
      "('Tony Stark',)\n",
      "Result set size: 2\n"
     ]
    }
   ],
   "source": [
    "\n",
    "import sqlite3\n",
    "\n",
    "dbname = 'mytest.db'\n",
    "conn = sqlite3.connect(dbname)\n",
    "cur = conn.cursor()\n",
    "\n",
    "sqlstr = 'SELECT customer_name FROM customers WHERE customer_id>=102;'\n",
    "print(sqlstr)\n",
    "results = cur.execute(sqlstr)\n",
    "#print('Result set size:', len(list(results)))\n",
    "size = 0\n",
    "for rec in results:\n",
    "    print(rec)\n",
    "    size += 1\n",
    "print('Result set size:', size)\n",
    "\n",
    "conn.commit()\n",
    "conn.close()\n"
   ]
  },
  {
   "cell_type": "code",
   "execution_count": null,
   "metadata": {},
   "outputs": [],
   "source": []
  }
 ],
 "metadata": {
  "kernelspec": {
   "display_name": "Python 3",
   "language": "python",
   "name": "python3"
  },
  "language_info": {
   "codemirror_mode": {
    "name": "ipython",
    "version": 3
   },
   "file_extension": ".py",
   "mimetype": "text/x-python",
   "name": "python",
   "nbconvert_exporter": "python",
   "pygments_lexer": "ipython3",
   "version": "3.8.8"
  }
 },
 "nbformat": 4,
 "nbformat_minor": 4
}
