{
 "cells": [
  {
   "cell_type": "code",
   "execution_count": 22,
   "metadata": {},
   "outputs": [
    {
     "name": "stdout",
     "output_type": "stream",
     "text": [
      "['日期', '開盤指數', '最高指數', '最低指數', '收盤指數']\n",
      "['110/06/01', '17,098.49', '17,184.30', '17,060.45', '17,162.38']\n",
      "['110/06/02', '17,192.91', '17,274.66', '17,056.42', '17,165.04']\n",
      "['110/06/03', '17,201.30', '17,311.28', '17,198.89', '17,246.16']\n",
      "['110/06/04', '17,225.06', '17,225.06', '17,084.49', '17,147.41']\n",
      "['110/06/07', '17,176.09', '17,189.23', '16,775.85', '17,083.91']\n",
      "['110/06/08', '17,094.34', '17,181.52', '17,056.53', '17,076.21']\n",
      "['110/06/09', '17,082.52', '17,082.52', '16,907.43', '16,966.22']\n",
      "['110/06/10', '17,024.54', '17,159.22', '16,978.01', '17,159.22']\n",
      "['110/06/11', '17,200.45', '17,278.55', '17,193.61', '17,213.52']\n",
      "['110/06/15', '17,279.70', '17,371.29', '17,279.70', '17,371.29']\n"
     ]
    }
   ],
   "source": [
    "\n",
    "import csv\n",
    "\n",
    "infname = 'twii.202106.csv'\n",
    "infile = open(infname, 'rt', encoding='big5')\n",
    "\n",
    "csvReader = csv.reader(infile)\n",
    "#list1 = list(csvReader)\n",
    "\n",
    "#for row in list1:\n",
    "for row in csvReader:\n",
    "    list1 = row[:-1]\n",
    "    if len(list1)>0: \n",
    "        print(list1) \n",
    "infile.close()\n"
   ]
  },
  {
   "cell_type": "code",
   "execution_count": 46,
   "metadata": {},
   "outputs": [
    {
     "name": "stdout",
     "output_type": "stream",
     "text": [
      "日期\t\t開盤指數\t\t最高指數\t\t最低指數\t\t收盤指數\t\t\t\t\n",
      "110/06/01\t17,098.49\t17,184.30\t17,060.45\t17,162.38\t\t\n",
      "110/06/02\t17,192.91\t17,274.66\t17,056.42\t17,165.04\t\t\n",
      "110/06/03\t17,201.30\t17,311.28\t17,198.89\t17,246.16\t\t\n",
      "110/06/04\t17,225.06\t17,225.06\t17,084.49\t17,147.41\t\t\n",
      "110/06/07\t17,176.09\t17,189.23\t16,775.85\t17,083.91\t\t\n",
      "110/06/08\t17,094.34\t17,181.52\t17,056.53\t17,076.21\t\t\n",
      "110/06/09\t17,082.52\t17,082.52\t16,907.43\t16,966.22\t\t\n",
      "110/06/10\t17,024.54\t17,159.22\t16,978.01\t17,159.22\t\t\n",
      "110/06/11\t17,200.45\t17,278.55\t17,193.61\t17,213.52\t\t\n",
      "110/06/15\t17,279.70\t17,371.29\t17,279.70\t17,371.29\t\t\n"
     ]
    }
   ],
   "source": [
    "\n",
    "import csv\n",
    "\n",
    "infname = 'twii.202106.csv'\n",
    "infile = open(infname, 'rt', encoding='big5')\n",
    "\n",
    "csvReader = csv.reader(infile)\n",
    "list1 = list(csvReader)\n",
    "# print(list1)\n",
    "for i in range(len(list1[1])):\n",
    "    print(list1[1][i]+'\\t\\t', end='')\n",
    "\n",
    "print('')\n",
    "    \n",
    "for i in range(2, len(list1)):\n",
    "    #print(list1[i])\n",
    "    print(str(list1[i][0])+'\\t', end='')\n",
    "    for j in range(1, len(list1[i])):\n",
    "        print(str(list1[i][j])+'\\t', end='')\n",
    "    print('')\n",
    "\n",
    "infile.close()"
   ]
  },
  {
   "cell_type": "code",
   "execution_count": 54,
   "metadata": {},
   "outputs": [
    {
     "name": "stdout",
     "output_type": "stream",
     "text": [
      "{'日期': '110/06/01', '開高低收指數': '17098.49,17184.30,17060.45,17162.38'}\n",
      "{'日期': '110/06/02', '開高低收指數': '17192.91,17274.66,17056.42,17165.04'}\n",
      "{'日期': '110/06/03', '開高低收指數': '17201.30,17311.28,17198.89,17246.16'}\n",
      "{'日期': '110/06/04', '開高低收指數': '17225.06,17225.06,17084.49,17147.41'}\n",
      "{'日期': '110/06/07', '開高低收指數': '17176.09,17189.23,16775.85,17083.91'}\n",
      "{'日期': '110/06/08', '開高低收指數': '17094.34,17181.52,17056.53,17076.21'}\n",
      "{'日期': '110/06/09', '開高低收指數': '17082.52,17082.52,16907.43,16966.22'}\n",
      "{'日期': '110/06/10', '開高低收指數': '17024.54,17159.22,16978.01,17159.22'}\n",
      "{'日期': '110/06/11', '開高低收指數': '17200.45,17278.55,17193.61,17213.52'}\n",
      "{'日期': '110/06/15', '開高低收指數': '17279.70,17371.29,17279.70,17371.29'}\n"
     ]
    }
   ],
   "source": [
    "\n",
    "import csv\n",
    "\n",
    "infname = 'twii.202106-2.csv'\n",
    "infile = open(infname, 'rt', encoding='big5')\n",
    "\n",
    "csvReader = csv.DictReader(infile)\n",
    "    \n",
    "for dica in csvReader:\n",
    "    print(dica)\n",
    "    \n",
    "  \n"
   ]
  },
  {
   "cell_type": "code",
   "execution_count": 57,
   "metadata": {},
   "outputs": [
    {
     "name": "stdout",
     "output_type": "stream",
     "text": [
      "日期 110/06/01 | 開高低收指數 17098.49,17184.30,17060.45,17162.38 | \n",
      "日期 110/06/02 | 開高低收指數 17192.91,17274.66,17056.42,17165.04 | \n",
      "日期 110/06/03 | 開高低收指數 17201.30,17311.28,17198.89,17246.16 | \n",
      "日期 110/06/04 | 開高低收指數 17225.06,17225.06,17084.49,17147.41 | \n",
      "日期 110/06/07 | 開高低收指數 17176.09,17189.23,16775.85,17083.91 | \n",
      "日期 110/06/08 | 開高低收指數 17094.34,17181.52,17056.53,17076.21 | \n",
      "日期 110/06/09 | 開高低收指數 17082.52,17082.52,16907.43,16966.22 | \n",
      "日期 110/06/10 | 開高低收指數 17024.54,17159.22,16978.01,17159.22 | \n",
      "日期 110/06/11 | 開高低收指數 17200.45,17278.55,17193.61,17213.52 | \n",
      "日期 110/06/15 | 開高低收指數 17279.70,17371.29,17279.70,17371.29 | \n"
     ]
    }
   ],
   "source": [
    "import csv\n",
    "\n",
    "infname = 'twii.202106-2.csv'\n",
    "infile = open(infname, 'rt', encoding='big5')\n",
    "\n",
    "csvReader = csv.DictReader(infile)\n",
    "for dic in csvReader:\n",
    "    for k, v in dic.items():\n",
    "        print(k, v, '| ', end='')\n",
    "    print('')\n",
    "\n",
    "infile.close()"
   ]
  },
  {
   "cell_type": "code",
   "execution_count": 4,
   "metadata": {},
   "outputs": [],
   "source": [
    "\n",
    "import csv\n",
    "\n",
    "list1 = [\n",
    "    ['Date', 'Open', 'High', 'Low', 'Close'],\n",
    "    ['2021-06-10', 591, 599, 587, '1,599'],\n",
    "    ['2021-06-11', 602, 603, 600, '1,602'],\n",
    "    ['2021-06-15', 607, 609, 606, '1,609']\n",
    "]\n",
    "\n",
    "outfname = '2330.csv'\n",
    "outfile = open(outfname, 'wt', encoding='utf-8')\n",
    "\n",
    "csvWriter = csv.writer(outfile, delimiter='\\t')\n",
    "for row in list1:\n",
    "    csvWriter.writerow(row)\n",
    "\n",
    "outfile.close()\n",
    "\n"
   ]
  },
  {
   "cell_type": "code",
   "execution_count": 60,
   "metadata": {},
   "outputs": [],
   "source": [
    "\n",
    "import csv\n",
    "\n",
    "list1 = [\n",
    "    {'Date':'2021-06-10', 'Open':591, 'High':599, 'Low':587, 'Close':599},\n",
    "    {'Date':'2021-06-11', 'Open':602, 'High':603, 'Low':600, 'Close':602},\n",
    "    {'Date':'2021-06-15', 'Open':607, 'High':609, 'Low':606, 'Close':609}\n",
    "]\n",
    "\n",
    "outfname = '2330-2.csv'\n",
    "outfile = open(outfname, 'wt', encoding='utf-8')\n",
    "\n",
    "keys = ['Date', 'Open', 'High', 'Low', 'Close']\n",
    "csvWriter = csv.DictWriter(outfile, fieldnames=keys)\n",
    "\n",
    "csvWriter.writeheader()\n",
    "for dic in list1:\n",
    "    csvWriter.writerow(dic)\n",
    "\n",
    "outfile.close()\n"
   ]
  },
  {
   "cell_type": "code",
   "execution_count": 6,
   "metadata": {},
   "outputs": [],
   "source": [
    "\n",
    "import csv\n",
    "list1 = [\n",
    "    ['Date','Open','High','Low','Close'],\n",
    "    ['2021-06-10',591,599,587,599],\n",
    "    ['2021-06-11',602,603,600,602],\n",
    "    ['2021-06-15',607,609,606,609]\n",
    "]\n",
    "outfname = '2330-3.csv'\n",
    "outfile = open(outfname,'wt',encoding='utf-8')\n",
    "\n",
    "csvWriter = csv.writer(outfile)\n",
    "for row in list1:\n",
    "    csvWriter.writerow(row)\n",
    "    \n",
    "outfile.close()\n"
   ]
  },
  {
   "cell_type": "code",
   "execution_count": 7,
   "metadata": {},
   "outputs": [],
   "source": [
    "\n",
    "import json\n",
    "import csv\n",
    "\n",
    "infname = '2330.json'\n",
    "outfname = '2330json.csv'\n",
    "\n",
    "infile = open(infname, 'rt', encoding='utf-8')\n",
    "outfile = open(outfname, 'wt', encoding='utf-8')\n",
    "\n",
    "dic1 = json.load(infile)\n",
    "tdlist = dic1['TradeDates']\n",
    "dic2 = dic1['MainData']\n",
    "oplist = dic2['OPList']\n",
    "hilist = dic2['HIList']\n",
    "lolist = dic2['LOList']\n",
    "cllist = dic2['CLList']\n",
    "vollist = dic2['VOLList']\n",
    "vallist = dic2['VALList']\n",
    "tralist = dic2['TRAList']\n",
    "\n",
    "header = ['日期','開盤','最高','最低','收盤','成交量','成交值','成交筆數']\n",
    "csvWriter = csv.writer(outfile)\n",
    "csvWriter.writerow(header)\n",
    "\n",
    "for row in zip(tdlist, oplist, hilist, lolist, cllist, vollist, vallist, tralist):\n",
    "    csvWriter.writerow(list(row))\n",
    "\n",
    "'''\n",
    "for i in range(len(tdlist)):\n",
    "    list1 = []\n",
    "    list1.append(tdlist[i])\n",
    "    list1.append(oplist[i])\n",
    "    list1.append(hilist[i])\n",
    "    list1.append(lolist[i])\n",
    "    list1.append(cllist[i])\n",
    "    list1.append(vollist[i])\n",
    "    list1.append(vallist[i])\n",
    "    list1.append(tralist[i])\n",
    "    csvWriter.writerow(list1)\n",
    "'''\n",
    "\n",
    "infile.close()\n",
    "outfile.close()\n",
    "\n"
   ]
  },
  {
   "cell_type": "code",
   "execution_count": 66,
   "metadata": {},
   "outputs": [
    {
     "name": "stdout",
     "output_type": "stream",
     "text": [
      "<class 'xlrd.sheet.Sheet'>\n",
      "12\n",
      "日期 開盤指數 最高指數 最低指數 收盤指數\n",
      "110/06/01 17098.49 17184.3 17060.45 17162.38\n",
      "110/06/02 17192.91 17274.66 17056.42 17165.04\n",
      "110/06/03 17201.3 17311.28 17198.89 17246.16\n",
      "110/06/04 17225.06 17225.06 17084.49 17147.41\n",
      "110/06/07 17176.09 17189.23 16775.85 17083.91\n",
      "110/06/08 17094.34 17181.52 17056.53 17076.21\n",
      "110/06/09 17082.52 17082.52 16907.43 16966.22\n",
      "110/06/10 17024.54 17159.22 16978.01 17159.22\n",
      "110/06/11 17200.45 17278.55 17193.61 17213.52\n",
      "110/06/15 17279.7 17371.29 17279.7 17371.29\n"
     ]
    }
   ],
   "source": [
    "\n",
    "import xlrd\n",
    "\n",
    "infname = 'twii.202106.xls'\n",
    "wb1 = xlrd.open_workbook(infname)\n",
    "shs = wb1.sheets()\n",
    "print(type(shs[0]))\n",
    "sheet1 = shs[0]\n",
    "print(sheet1.nrows)\n",
    "\n",
    "for i in range(sheet1.nrows):\n",
    "    if i>=1:\n",
    "        row = sheet1.row_values(i)\n",
    "        print(row[0], row[1],row[2],row[3],row[4])\n",
    "    \n"
   ]
  },
  {
   "cell_type": "code",
   "execution_count": 64,
   "metadata": {},
   "outputs": [
    {
     "name": "stdout",
     "output_type": "stream",
     "text": [
      "['110年06月 發行量加權股價指數歷史資料', '', '', '', '']\n",
      "['日期', '開盤指數', '最高指數', '最低指數', '收盤指數']\n",
      "['110/06/01', 17098.49, 17184.3, 17060.45, 17162.38]\n",
      "['110/06/02', 17192.91, 17274.66, 17056.42, 17165.04]\n",
      "['110/06/03', 17201.3, 17311.28, 17198.89, 17246.16]\n",
      "['110/06/04', 17225.06, 17225.06, 17084.49, 17147.41]\n",
      "['110/06/07', 17176.09, 17189.23, 16775.85, 17083.91]\n",
      "['110/06/08', 17094.34, 17181.52, 17056.53, 17076.21]\n",
      "['110/06/09', 17082.52, 17082.52, 16907.43, 16966.22]\n",
      "['110/06/10', 17024.54, 17159.22, 16978.01, 17159.22]\n",
      "['110/06/11', 17200.45, 17278.55, 17193.61, 17213.52]\n",
      "['110/06/15', 17279.7, 17371.29, 17279.7, 17371.29]\n"
     ]
    }
   ],
   "source": [
    "for i in range(sheet1.nrows):\n",
    "    print(sheet1.row_values(i))\n"
   ]
  },
  {
   "cell_type": "code",
   "execution_count": 67,
   "metadata": {},
   "outputs": [],
   "source": [
    "\n",
    "import xlwt\n",
    "\n",
    "wb1 = xlwt.Workbook()\n",
    "sh1 = wb1.add_sheet('my_test', cell_overwrite_ok=True)\n",
    "\n",
    "header = ['日期','開盤','最高','最低','收盤']\n",
    "list1 = [\n",
    "    ['2021-06-10',591,599,587,599],\n",
    "    ['2021-06-11',602,603,600,602],\n",
    "    ['2021-06-15',607,609,606,609]\n",
    "]\n",
    "#sh1.write(row, col, data)\n",
    "for i in range(len(header)):\n",
    "    sh1.write(0, i, header[i])\n",
    "    \n",
    "for i in range(len(list1)):\n",
    "    data = list1[i]\n",
    "    row = i+1\n",
    "    for j in range(len(data)):\n",
    "        sh1.write(row, j, data[j])\n",
    "\n",
    "outfname = '2330-2.xls'\n",
    "wb1.save(outfname)\n"
   ]
  },
  {
   "cell_type": "code",
   "execution_count": 10,
   "metadata": {},
   "outputs": [
    {
     "name": "stdout",
     "output_type": "stream",
     "text": [
      "total 4061 rows written\n"
     ]
    }
   ],
   "source": [
    "\n",
    "import json\n",
    "import xlwt\n",
    "\n",
    "infname = '2330.json'\n",
    "infile = open(infname, 'rt', encoding='utf-8')\n",
    "\n",
    "wb1 = xlwt.Workbook()\n",
    "sh1 = wb1.add_sheet('my_test', cell_overwrite_ok=True)\n",
    "\n",
    "dic1 = json.load(infile)\n",
    "tdlist = dic1['TradeDates']\n",
    "dic2 = dic1['MainData']\n",
    "oplist = dic2['OPList']\n",
    "hilist = dic2['HIList']\n",
    "lolist = dic2['LOList']\n",
    "cllist = dic2['CLList']\n",
    "vollist = dic2['VOLList']\n",
    "vallist = dic2['VALList']\n",
    "tralist = dic2['TRAList']\n",
    "\n",
    "header = ['日期','開盤','最高','最低','收盤','成交量','成交值','成交筆數']\n",
    "for i in range(len(header)):\n",
    "    sh1.write(0, i, header[i])\n",
    "\n",
    "index = 1\n",
    "for row in zip(tdlist, oplist, hilist, lolist, cllist, vollist, vallist, tralist):\n",
    "    data = list(row)\n",
    "    for j in range(len(data)):\n",
    "        sh1.write(index, j, data[j])\n",
    "    index += 1\n",
    "\n",
    "print('total', index, 'rows written')\n",
    "outfname = '2330json.xls'\n",
    "wb1.save(outfname)\n"
   ]
  },
  {
   "cell_type": "code",
   "execution_count": null,
   "metadata": {},
   "outputs": [],
   "source": []
  }
 ],
 "metadata": {
  "kernelspec": {
   "display_name": "Python 3",
   "language": "python",
   "name": "python3"
  },
  "language_info": {
   "codemirror_mode": {
    "name": "ipython",
    "version": 3
   },
   "file_extension": ".py",
   "mimetype": "text/x-python",
   "name": "python",
   "nbconvert_exporter": "python",
   "pygments_lexer": "ipython3",
   "version": "3.8.8"
  }
 },
 "nbformat": 4,
 "nbformat_minor": 4
}
