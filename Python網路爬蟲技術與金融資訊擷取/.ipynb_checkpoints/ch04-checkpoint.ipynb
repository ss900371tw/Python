{
 "cells": [
  {
   "cell_type": "code",
   "execution_count": 1,
   "metadata": {},
   "outputs": [
    {
     "data": {
      "text/plain": [
       "True"
      ]
     },
     "execution_count": 1,
     "metadata": {},
     "output_type": "execute_result"
    }
   ],
   "source": [
    "\n",
    "import webbrowser\n",
    "\n",
    "urlstr = 'https://www.twse.com.tw'\n",
    "webbrowser.open(urlstr)\n"
   ]
  },
  {
   "cell_type": "code",
   "execution_count": 2,
   "metadata": {},
   "outputs": [
    {
     "data": {
      "text/plain": [
       "True"
      ]
     },
     "execution_count": 2,
     "metadata": {},
     "output_type": "execute_result"
    }
   ],
   "source": [
    "\n",
    "import webbrowser\n",
    "\n",
    "urlstr = 'https://www.twse.com.tw/exchangeReport/STOCK_DAY?response=csv&date=20210831&stockNo=2330'\n",
    "webbrowser.open(urlstr)\n"
   ]
  },
  {
   "cell_type": "code",
   "execution_count": 3,
   "metadata": {},
   "outputs": [
    {
     "data": {
      "text/plain": [
       "True"
      ]
     },
     "execution_count": 3,
     "metadata": {},
     "output_type": "execute_result"
    }
   ],
   "source": [
    "\n",
    "import webbrowser\n",
    "\n",
    "urlstr = 'https://www.twse.com.tw/exchangeReport/STOCK_DAY?response=csv&date=20210123&stockNo=2002'\n",
    "webbrowser.open(urlstr)\n"
   ]
  },
  {
   "cell_type": "code",
   "execution_count": 4,
   "metadata": {},
   "outputs": [
    {
     "name": "stdout",
     "output_type": "stream",
     "text": [
      "https://www.twse.com.tw/exchangeReport/STOCK_DAY?response=csv&stockNo=2002&date=20200101\n",
      "https://www.twse.com.tw/exchangeReport/STOCK_DAY?response=csv&stockNo=2002&date=20200201\n",
      "https://www.twse.com.tw/exchangeReport/STOCK_DAY?response=csv&stockNo=2002&date=20200301\n",
      "https://www.twse.com.tw/exchangeReport/STOCK_DAY?response=csv&stockNo=2002&date=20200401\n",
      "https://www.twse.com.tw/exchangeReport/STOCK_DAY?response=csv&stockNo=2002&date=20200501\n",
      "https://www.twse.com.tw/exchangeReport/STOCK_DAY?response=csv&stockNo=2002&date=20200601\n",
      "https://www.twse.com.tw/exchangeReport/STOCK_DAY?response=csv&stockNo=2002&date=20200701\n",
      "https://www.twse.com.tw/exchangeReport/STOCK_DAY?response=csv&stockNo=2002&date=20200801\n",
      "https://www.twse.com.tw/exchangeReport/STOCK_DAY?response=csv&stockNo=2002&date=20200901\n",
      "https://www.twse.com.tw/exchangeReport/STOCK_DAY?response=csv&stockNo=2002&date=20201001\n",
      "https://www.twse.com.tw/exchangeReport/STOCK_DAY?response=csv&stockNo=2002&date=20201101\n",
      "https://www.twse.com.tw/exchangeReport/STOCK_DAY?response=csv&stockNo=2002&date=20201201\n"
     ]
    }
   ],
   "source": [
    "\n",
    "import webbrowser\n",
    "\n",
    "urlprefix = 'https://www.twse.com.tw/exchangeReport/STOCK_DAY?response=csv&stockNo=2002&date=2020'\n",
    "\n",
    "urllist = []\n",
    "for i in range(1, 12+1):\n",
    "    urlstr = urlprefix+str(i)+'01' if i>=10 else urlprefix+'0'+str(i)+'01'\n",
    "    urllist.append(urlstr)\n",
    "    \n",
    "for i in urllist:\n",
    "    print(i)\n",
    "    #webbrowser.open(i)\n"
   ]
  },
  {
   "cell_type": "code",
   "execution_count": 5,
   "metadata": {},
   "outputs": [
    {
     "name": "stdout",
     "output_type": "stream",
     "text": [
      "200\n",
      "File 2330.202108.csv saved.\n"
     ]
    }
   ],
   "source": [
    "\n",
    "import requests\n",
    "\n",
    "urlstr = 'https://www.twse.com.tw/exchangeReport/STOCK_DAY?response=csv&date=20210831&stockNo=2330'\n",
    "resp = requests.get(urlstr)\n",
    "print(resp.status_code)\n",
    "\n",
    "if resp.status_code//100==2:\n",
    "    outfname = '2330.202108.csv'\n",
    "    with open(outfname, 'wt', encoding='utf-8') as outfile:\n",
    "        outfile.write(resp.text)\n",
    "\n",
    "    print('File', outfname, 'saved.')\n",
    "else:\n",
    "    print('Request failed.')\n"
   ]
  },
  {
   "cell_type": "code",
   "execution_count": 6,
   "metadata": {},
   "outputs": [
    {
     "name": "stdout",
     "output_type": "stream",
     "text": [
      "File 2330.202108.csv saved.\n"
     ]
    }
   ],
   "source": [
    "\n",
    "import requests\n",
    "\n",
    "urlstr = 'https://www.twse.com.tw/exchangeReport/STOCK_DAY?response=csv&date=20210831&stockNo=2330'\n",
    "try:\n",
    "    resp = requests.get(urlstr)\n",
    "    resp.raise_for_status()\n",
    "    outfname = '2330.202108.csv'\n",
    "    with open(outfname, 'wt', encoding='utf-8') as outfile:\n",
    "        outfile.write(resp.text)\n",
    "    print('File', outfname, 'saved.')\n",
    "except:\n",
    "    print('Request failed.')\n",
    "\n",
    "    "
   ]
  },
  {
   "cell_type": "code",
   "execution_count": 7,
   "metadata": {},
   "outputs": [
    {
     "name": "stdout",
     "output_type": "stream",
     "text": [
      "File 2330.202108.csv saved.\n"
     ]
    }
   ],
   "source": [
    "\n",
    "import requests\n",
    "\n",
    "headerstr = {'User-Agent':'Mozilla/5.0 (X11; Linux x86_64) AppleWebKit/537.36 (KHTML, like Gecko) Chrome/51.0.2704.103 Safari/537.36'}\n",
    "urlstr = 'https://www.twse.com.tw/exchangeReport/STOCK_DAY?response=csv&date=20210831&stockNo=2330'\n",
    "try:\n",
    "    resp = requests.get(urlstr, headers=headerstr)\n",
    "    resp.raise_for_status()\n",
    "    outfname = '2330.202108.csv'\n",
    "    with open(outfname, 'wt', encoding='utf-8') as outfile:\n",
    "        outfile.write(resp.text)\n",
    "    print('File', outfname, 'saved.')\n",
    "except:\n",
    "    print('Request failed.')\n"
   ]
  },
  {
   "cell_type": "code",
   "execution_count": 8,
   "metadata": {},
   "outputs": [
    {
     "name": "stdout",
     "output_type": "stream",
     "text": [
      "\"110年07月 2303 聯電             各日成交資訊\"\r\n",
      "\"日期\",\"成交股數\",\"成交金額\",\"開盤價\",\"最高價\",\"最低價\",\"收盤價\",\"漲跌價差\",\"成交筆數\",\r\n",
      "\"110/07/01\",\"93,298,609\",\"4,902,640,069\",\"53.30\",\"53.40\",\"52.10\",\"52.10\",\"-1.00\",\"36,656\",\r\n",
      "\"110/07/02\",\"65,761,082\",\"3,450,983,036\",\"52.10\",\"52.90\",\"52.10\",\"52.60\",\"+0.50\",\"23,664\",\r\n",
      "\"110/07/05\",\"261,523,816\",\"14,196,826,551\",\"53.00\",\"55.20\",\"52.80\",\"54.40\",\"+1.80\",\"92,754\",\r\n",
      "\"110/07/06\",\"144,822,076\",\"7,806,135,651\",\"54.90\",\"55.20\",\"53.30\",\"53.40\",\"-1.00\",\"54,709\",\r\n",
      "\"110/07/07\",\"105,991,674\",\"5,683,197,870\",\"53.30\",\"54.10\",\"53.10\",\"53.60\",\"+0.20\",\"35,870\",\r\n",
      "\"110/07/08\",\"96,052,368\",\"5,131,650,310\",\"53.90\",\"54.10\",\"53.00\",\"53.10\",\"-0.50\",\"38,079\",\r\n",
      "\"110/07/09\",\"111,351,648\",\"5,818,685,837\",\"52.50\",\"52.80\",\"51.90\",\"52.20\",\"-0.90\",\"44,502\",\r\n",
      "\"110/07/12\",\"149,279,243\",\"7,997,761,164\",\"53.60\",\"54.30\",\"52.90\",\"53.20\",\"+1.00\",\"44,042\",\r\n",
      "\"110/07/13\",\"261,975,318\",\"14,289,962,416\",\"53.90\",\"55.20\",\"53.60\",\"53.90\",\"+0.70\",\"92,754\",\r\n",
      "\"110/07/14\",\"119,847,041\",\"6,514,482,642\",\"54.80\",\"55.00\",\"53.60\",\"54.00\",\"+0.10\",\"41,162\",\r\n",
      "\"110/07/15\",\"182,155,940\",\"10,006,659,181\",\"54.40\",\"55.30\",\"54.20\",\"55.10\",\"+1.10\",\"56,284\",\r\n",
      "\"110/07/16\",\"254,836,284\",\"13,644,558,607\",\"53.50\",\"54.20\",\"53.00\",\"53.70\",\"-1.40\",\"81,970\",\r\n",
      "\"110/07/19\",\"142,678,384\",\"7,534,630,142\",\"53.40\",\"53.40\",\"52.50\",\"52.60\",\"-1.10\",\"50,529\",\r\n",
      "\"110/07/20\",\"111,149,026\",\"5,832,518,586\",\"52.30\",\"53.10\",\"52.10\",\"52.40\",\"-0.20\",\"41,707\",\r\n",
      "\"110/07/21\",\"201,374,400\",\"10,355,744,297\",\"53.00\",\"53.10\",\"50.20\",\"50.80\",\"-1.60\",\"78,205\",\r\n",
      "\"110/07/22\",\"233,371,650\",\"12,120,562,781\",\"51.10\",\"52.80\",\"50.80\",\"52.00\",\"X0.00\",\"66,632\",\r\n",
      "\"110/07/23\",\"208,158,788\",\"11,110,269,848\",\"53.00\",\"54.10\",\"52.70\",\"52.70\",\"+0.70\",\"68,362\",\r\n",
      "\"110/07/26\",\"137,792,338\",\"7,429,437,189\",\"54.00\",\"54.40\",\"53.60\",\"53.70\",\"+1.00\",\"42,572\",\r\n",
      "\"110/07/27\",\"118,561,484\",\"6,355,294,561\",\"54.20\",\"54.30\",\"53.10\",\"53.10\",\"-0.60\",\"35,962\",\r\n",
      "\"110/07/28\",\"199,999,316\",\"10,261,061,610\",\"52.40\",\"52.60\",\"50.50\",\"51.80\",\"-1.30\",\"68,871\",\r\n",
      "\"110/07/29\",\"437,075,578\",\"23,760,926,840\",\"53.90\",\"55.00\",\"53.30\",\"54.60\",\"+2.80\",\"132,593\",\r\n",
      "\"110/07/30\",\"690,359,467\",\"39,827,899,349\",\"55.80\",\"59.90\",\"55.80\",\"57.80\",\"+3.20\",\"241,096\",\r\n",
      "\"說明:\"\r\n",
      "\"符號說明:+/-/X表示漲/跌/不比價\"\r\n",
      "\"當日統計資訊含一般、零股、盤後定價、鉅額交易，不含拍賣、標購。\"\r\n",
      "\"ETF證券代號第六碼為K、M、S、C者，表示該ETF以外幣交易。\"\r\n",
      "\r\n",
      "\n"
     ]
    }
   ],
   "source": [
    "\n",
    "import requests\n",
    "\n",
    "headerstr = {'User-Agent':'Mozilla/5.0 (X11; Linux x86_64) AppleWebKit/537.36 (KHTML, like Gecko) Chrome/51.0.2704.103 Safari/537.36'}\n",
    "urlstr = 'https://www.twse.com.tw/exchangeReport/STOCK_DAY?response=csv&date=20210731&stockNo=2303'\n",
    "try:\n",
    "    resp = requests.get(urlstr, headers=headerstr)\n",
    "    resp.raise_for_status()\n",
    "    print(resp.text)\n",
    "except:\n",
    "    print('Request failed.')\n",
    "\n",
    "    "
   ]
  },
  {
   "cell_type": "code",
   "execution_count": 9,
   "metadata": {},
   "outputs": [
    {
     "name": "stdout",
     "output_type": "stream",
     "text": [
      "<class 'requests.cookies.RequestsCookieJar'>\n",
      "key= 1P_JAR value= 2021-10-03-17\n",
      "key= NID value= 511=KlHa0RoFFNPAAEKsoYzLD0cJLlW3tSmxwhSBntUeupRDlQtT6ebYWnjJRzJ6jFki0stXMyhlP-3Kksfw7DAfi9fOZfTFFBDegzXiQr0Jo555dsmts3-tmDKf8w7wTOauBu4JF2gKeh59Dee7oEXM7QRxacvNOL3qj2jNxseACgY\n"
     ]
    }
   ],
   "source": [
    "\n",
    "import requests\n",
    "\n",
    "urlstr = 'http://www.google.com/'\n",
    "resp = requests.get(urlstr)\n",
    "print(type(resp.cookies))\n",
    "#for item in resp.cookies:\n",
    "#    print(item)\n",
    "dic1 = requests.utils.dict_from_cookiejar(resp.cookies)\n",
    "for k, v in dic1.items():\n",
    "    print('key=', k, 'value=', v)\n",
    "    \n"
   ]
  },
  {
   "cell_type": "code",
   "execution_count": 10,
   "metadata": {},
   "outputs": [
    {
     "name": "stdout",
     "output_type": "stream",
     "text": [
      "round 1\n",
      "round 2\n",
      "round 3\n",
      "round 4\n",
      "round 5\n",
      "round 6\n",
      "round 7\n",
      "round 8\n",
      "round 9\n",
      "round 10\n"
     ]
    }
   ],
   "source": [
    "\n",
    "import time\n",
    "import random\n",
    "\n",
    "index = 0\n",
    "while index<10:\n",
    "    index += 1\n",
    "    print('round', index)\n",
    "    time.sleep(random.randint(1, 4))\n"
   ]
  },
  {
   "cell_type": "code",
   "execution_count": null,
   "metadata": {},
   "outputs": [],
   "source": []
  }
 ],
 "metadata": {
  "kernelspec": {
   "display_name": "Python 3",
   "language": "python",
   "name": "python3"
  },
  "language_info": {
   "codemirror_mode": {
    "name": "ipython",
    "version": 3
   },
   "file_extension": ".py",
   "mimetype": "text/x-python",
   "name": "python",
   "nbconvert_exporter": "python",
   "pygments_lexer": "ipython3",
   "version": "3.8.8"
  }
 },
 "nbformat": 4,
 "nbformat_minor": 4
}
